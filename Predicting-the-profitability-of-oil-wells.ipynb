{
  "metadata": {
    "kernelspec": {
      "name": "python",
      "display_name": "Python (Pyodide)",
      "language": "python"
    },
    "language_info": {
      "codemirror_mode": {
        "name": "ipython",
        "version": 3
      },
      "file_extension": ".py",
      "mimetype": "text/x-python",
      "name": "python",
      "nbconvert_exporter": "python",
      "pygments_lexer": "ipython3",
      "version": "3.9.5"
    },
    "ExecuteTimeLog": [
      {
        "duration": 12,
        "start_time": "2025-03-28T16:34:30.916Z"
      },
      {
        "duration": 88,
        "start_time": "2025-04-14T19:07:14.128Z"
      },
      {
        "duration": 3648,
        "start_time": "2025-04-14T19:07:19.546Z"
      },
      {
        "duration": 1783,
        "start_time": "2025-04-14T19:07:29.076Z"
      },
      {
        "duration": 189,
        "start_time": "2025-04-14T19:21:22.292Z"
      },
      {
        "duration": 207,
        "start_time": "2025-04-14T19:21:41.497Z"
      },
      {
        "duration": 172,
        "start_time": "2025-04-14T19:21:51.986Z"
      },
      {
        "duration": 42,
        "start_time": "2025-04-14T19:32:41.089Z"
      },
      {
        "duration": 61,
        "start_time": "2025-04-14T19:33:06.862Z"
      },
      {
        "duration": 82,
        "start_time": "2025-04-14T19:33:39.205Z"
      },
      {
        "duration": 3289,
        "start_time": "2025-04-15T06:05:38.317Z"
      },
      {
        "duration": 1609,
        "start_time": "2025-04-15T06:05:41.608Z"
      },
      {
        "duration": 171,
        "start_time": "2025-04-15T06:05:43.219Z"
      },
      {
        "duration": 159,
        "start_time": "2025-04-15T06:05:43.393Z"
      },
      {
        "duration": 162,
        "start_time": "2025-04-15T06:05:43.554Z"
      },
      {
        "duration": 50,
        "start_time": "2025-04-15T06:05:43.718Z"
      },
      {
        "duration": 62,
        "start_time": "2025-04-15T06:05:43.770Z"
      },
      {
        "duration": 114,
        "start_time": "2025-04-15T06:05:43.834Z"
      },
      {
        "duration": 146,
        "start_time": "2025-04-15T06:09:54.804Z"
      },
      {
        "duration": 114,
        "start_time": "2025-04-15T06:10:18.767Z"
      },
      {
        "duration": 35,
        "start_time": "2025-04-15T06:19:14.616Z"
      },
      {
        "duration": 40,
        "start_time": "2025-04-15T06:19:24.916Z"
      },
      {
        "duration": 35,
        "start_time": "2025-04-15T06:19:44.830Z"
      },
      {
        "duration": 92,
        "start_time": "2025-04-15T06:33:26.883Z"
      },
      {
        "duration": 4,
        "start_time": "2025-04-15T07:53:56.434Z"
      },
      {
        "duration": 914,
        "start_time": "2025-04-15T07:53:58.039Z"
      },
      {
        "duration": 827,
        "start_time": "2025-04-15T07:54:50.323Z"
      },
      {
        "duration": 985,
        "start_time": "2025-04-15T07:55:12.787Z"
      },
      {
        "duration": 938,
        "start_time": "2025-04-15T07:55:47.731Z"
      },
      {
        "duration": 852,
        "start_time": "2025-04-15T07:56:01.499Z"
      },
      {
        "duration": 959,
        "start_time": "2025-04-15T07:56:18.695Z"
      },
      {
        "duration": 5,
        "start_time": "2025-04-15T08:16:07.836Z"
      },
      {
        "duration": 500,
        "start_time": "2025-04-15T08:16:55.236Z"
      },
      {
        "duration": 108,
        "start_time": "2025-04-15T08:18:25.974Z"
      },
      {
        "duration": 976,
        "start_time": "2025-04-15T08:18:54.624Z"
      },
      {
        "duration": 793,
        "start_time": "2025-04-15T08:19:18.605Z"
      },
      {
        "duration": 958,
        "start_time": "2025-04-15T08:19:43.672Z"
      },
      {
        "duration": 84,
        "start_time": "2025-04-15T08:20:07.001Z"
      },
      {
        "duration": 453,
        "start_time": "2025-04-15T08:20:32.977Z"
      },
      {
        "duration": 85,
        "start_time": "2025-04-15T08:20:51.555Z"
      },
      {
        "duration": 455,
        "start_time": "2025-04-15T08:21:18.080Z"
      },
      {
        "duration": 222,
        "start_time": "2025-04-15T08:21:41.932Z"
      },
      {
        "duration": 372,
        "start_time": "2025-04-15T08:21:55.276Z"
      },
      {
        "duration": 338,
        "start_time": "2025-04-15T08:22:11.200Z"
      },
      {
        "duration": 464,
        "start_time": "2025-04-15T08:22:56.725Z"
      },
      {
        "duration": 338,
        "start_time": "2025-04-15T08:23:14.632Z"
      },
      {
        "duration": 2490,
        "start_time": "2025-04-15T08:24:07.340Z"
      },
      {
        "duration": 1475,
        "start_time": "2025-04-15T08:24:09.833Z"
      },
      {
        "duration": 168,
        "start_time": "2025-04-15T08:24:11.310Z"
      },
      {
        "duration": 167,
        "start_time": "2025-04-15T08:24:11.480Z"
      },
      {
        "duration": 161,
        "start_time": "2025-04-15T08:24:11.648Z"
      },
      {
        "duration": 42,
        "start_time": "2025-04-15T08:24:11.810Z"
      },
      {
        "duration": 95,
        "start_time": "2025-04-15T08:24:11.862Z"
      },
      {
        "duration": 78,
        "start_time": "2025-04-15T08:24:11.959Z"
      },
      {
        "duration": 160,
        "start_time": "2025-04-15T08:24:12.038Z"
      },
      {
        "duration": 37,
        "start_time": "2025-04-15T08:24:12.201Z"
      },
      {
        "duration": 53,
        "start_time": "2025-04-15T08:24:12.240Z"
      },
      {
        "duration": 36,
        "start_time": "2025-04-15T08:24:12.295Z"
      },
      {
        "duration": 41,
        "start_time": "2025-04-15T08:24:12.332Z"
      },
      {
        "duration": 921,
        "start_time": "2025-04-15T08:24:12.375Z"
      },
      {
        "duration": 835,
        "start_time": "2025-04-15T08:24:13.298Z"
      },
      {
        "duration": 1015,
        "start_time": "2025-04-15T08:24:14.135Z"
      },
      {
        "duration": 5,
        "start_time": "2025-04-15T08:24:15.152Z"
      },
      {
        "duration": 503,
        "start_time": "2025-04-15T08:24:15.162Z"
      },
      {
        "duration": 925,
        "start_time": "2025-04-15T08:24:15.667Z"
      },
      {
        "duration": 977,
        "start_time": "2025-04-15T08:24:16.594Z"
      },
      {
        "duration": 847,
        "start_time": "2025-04-15T08:24:17.572Z"
      },
      {
        "duration": 474,
        "start_time": "2025-04-15T08:24:18.421Z"
      },
      {
        "duration": 498,
        "start_time": "2025-04-15T08:24:18.896Z"
      },
      {
        "duration": 243,
        "start_time": "2025-04-15T08:24:19.396Z"
      },
      {
        "duration": 343,
        "start_time": "2025-04-15T08:24:19.642Z"
      },
      {
        "duration": 479,
        "start_time": "2025-04-15T08:24:19.986Z"
      },
      {
        "duration": 78,
        "start_time": "2025-04-15T08:25:19.719Z"
      },
      {
        "duration": 293,
        "start_time": "2025-04-15T08:26:07.436Z"
      },
      {
        "duration": 394,
        "start_time": "2025-04-15T08:29:59.774Z"
      },
      {
        "duration": 368,
        "start_time": "2025-04-15T08:30:16.247Z"
      },
      {
        "duration": 2526,
        "start_time": "2025-04-15T08:32:30.530Z"
      },
      {
        "duration": 1485,
        "start_time": "2025-04-15T08:32:33.059Z"
      },
      {
        "duration": 183,
        "start_time": "2025-04-15T08:32:34.545Z"
      },
      {
        "duration": 161,
        "start_time": "2025-04-15T08:32:34.731Z"
      },
      {
        "duration": 166,
        "start_time": "2025-04-15T08:32:34.894Z"
      },
      {
        "duration": 46,
        "start_time": "2025-04-15T08:32:35.062Z"
      },
      {
        "duration": 85,
        "start_time": "2025-04-15T08:32:35.110Z"
      },
      {
        "duration": 88,
        "start_time": "2025-04-15T08:32:35.197Z"
      },
      {
        "duration": 183,
        "start_time": "2025-04-15T08:32:35.287Z"
      },
      {
        "duration": 43,
        "start_time": "2025-04-15T08:32:35.475Z"
      },
      {
        "duration": 57,
        "start_time": "2025-04-15T08:32:35.520Z"
      },
      {
        "duration": 36,
        "start_time": "2025-04-15T08:32:35.579Z"
      },
      {
        "duration": 27,
        "start_time": "2025-04-15T08:32:35.617Z"
      },
      {
        "duration": 955,
        "start_time": "2025-04-15T08:32:35.646Z"
      },
      {
        "duration": 882,
        "start_time": "2025-04-15T08:32:36.603Z"
      },
      {
        "duration": 985,
        "start_time": "2025-04-15T08:32:37.487Z"
      },
      {
        "duration": 6,
        "start_time": "2025-04-15T08:32:38.475Z"
      },
      {
        "duration": 511,
        "start_time": "2025-04-15T08:32:38.483Z"
      },
      {
        "duration": 929,
        "start_time": "2025-04-15T08:32:38.996Z"
      },
      {
        "duration": 935,
        "start_time": "2025-04-15T08:32:39.927Z"
      },
      {
        "duration": 843,
        "start_time": "2025-04-15T08:32:40.864Z"
      },
      {
        "duration": 470,
        "start_time": "2025-04-15T08:32:41.709Z"
      },
      {
        "duration": 483,
        "start_time": "2025-04-15T08:32:42.182Z"
      },
      {
        "duration": 240,
        "start_time": "2025-04-15T08:32:42.667Z"
      },
      {
        "duration": 346,
        "start_time": "2025-04-15T08:32:42.909Z"
      },
      {
        "duration": 508,
        "start_time": "2025-04-15T08:32:43.257Z"
      },
      {
        "duration": 297,
        "start_time": "2025-04-15T08:32:43.767Z"
      },
      {
        "duration": 394,
        "start_time": "2025-04-15T08:32:44.068Z"
      },
      {
        "duration": 357,
        "start_time": "2025-04-15T08:32:44.464Z"
      },
      {
        "duration": 658,
        "start_time": "2025-04-15T08:43:16.619Z"
      },
      {
        "duration": 84,
        "start_time": "2025-04-15T08:47:10.444Z"
      },
      {
        "duration": 3,
        "start_time": "2025-04-15T08:47:38.581Z"
      },
      {
        "duration": 699,
        "start_time": "2025-04-15T08:48:28.928Z"
      },
      {
        "duration": 639,
        "start_time": "2025-04-15T08:49:06.292Z"
      },
      {
        "duration": 616,
        "start_time": "2025-04-15T08:49:30.785Z"
      },
      {
        "duration": 777,
        "start_time": "2025-04-15T08:50:42.839Z"
      },
      {
        "duration": 683,
        "start_time": "2025-04-15T08:56:08.035Z"
      },
      {
        "duration": 2581,
        "start_time": "2025-04-15T10:41:34.961Z"
      },
      {
        "duration": 1478,
        "start_time": "2025-04-15T10:41:37.544Z"
      },
      {
        "duration": 178,
        "start_time": "2025-04-15T10:41:39.023Z"
      },
      {
        "duration": 159,
        "start_time": "2025-04-15T10:41:39.203Z"
      },
      {
        "duration": 159,
        "start_time": "2025-04-15T10:41:39.364Z"
      },
      {
        "duration": 49,
        "start_time": "2025-04-15T10:41:39.525Z"
      },
      {
        "duration": 65,
        "start_time": "2025-04-15T10:41:39.576Z"
      },
      {
        "duration": 89,
        "start_time": "2025-04-15T10:41:39.643Z"
      },
      {
        "duration": 162,
        "start_time": "2025-04-15T10:41:39.734Z"
      },
      {
        "duration": 38,
        "start_time": "2025-04-15T10:41:39.899Z"
      },
      {
        "duration": 53,
        "start_time": "2025-04-15T10:41:39.939Z"
      },
      {
        "duration": 35,
        "start_time": "2025-04-15T10:41:39.993Z"
      },
      {
        "duration": 4,
        "start_time": "2025-04-15T10:41:40.030Z"
      },
      {
        "duration": 952,
        "start_time": "2025-04-15T10:41:40.036Z"
      },
      {
        "duration": 822,
        "start_time": "2025-04-15T10:41:40.990Z"
      },
      {
        "duration": 953,
        "start_time": "2025-04-15T10:41:41.814Z"
      },
      {
        "duration": 6,
        "start_time": "2025-04-15T10:41:42.769Z"
      },
      {
        "duration": 508,
        "start_time": "2025-04-15T10:41:42.776Z"
      },
      {
        "duration": 929,
        "start_time": "2025-04-15T10:41:43.286Z"
      },
      {
        "duration": 923,
        "start_time": "2025-04-15T10:41:44.217Z"
      },
      {
        "duration": 837,
        "start_time": "2025-04-15T10:41:45.143Z"
      },
      {
        "duration": 457,
        "start_time": "2025-04-15T10:41:45.983Z"
      },
      {
        "duration": 494,
        "start_time": "2025-04-15T10:41:46.442Z"
      },
      {
        "duration": 245,
        "start_time": "2025-04-15T10:41:46.938Z"
      },
      {
        "duration": 399,
        "start_time": "2025-04-15T10:41:47.185Z"
      },
      {
        "duration": 485,
        "start_time": "2025-04-15T10:41:47.586Z"
      },
      {
        "duration": 289,
        "start_time": "2025-04-15T10:41:48.073Z"
      },
      {
        "duration": 406,
        "start_time": "2025-04-15T10:41:48.367Z"
      },
      {
        "duration": 351,
        "start_time": "2025-04-15T10:41:48.775Z"
      },
      {
        "duration": 652,
        "start_time": "2025-04-15T10:41:49.129Z"
      },
      {
        "duration": 2,
        "start_time": "2025-04-15T10:41:49.784Z"
      },
      {
        "duration": 625,
        "start_time": "2025-04-15T10:41:49.788Z"
      },
      {
        "duration": 667,
        "start_time": "2025-04-15T10:41:50.414Z"
      },
      {
        "duration": 622,
        "start_time": "2025-04-15T10:41:51.083Z"
      },
      {
        "duration": 207,
        "start_time": "2025-04-15T10:59:04.152Z"
      },
      {
        "duration": 13522,
        "start_time": "2025-04-15T10:59:24.441Z"
      },
      {
        "duration": 4,
        "start_time": "2025-04-15T11:31:35.285Z"
      },
      {
        "duration": 61,
        "start_time": "2025-04-15T11:56:51.773Z"
      },
      {
        "duration": 3,
        "start_time": "2025-04-15T12:02:39.106Z"
      },
      {
        "duration": 119,
        "start_time": "2025-04-15T12:06:05.713Z"
      },
      {
        "duration": 1362,
        "start_time": "2025-04-15T12:06:26.381Z"
      },
      {
        "duration": 4388,
        "start_time": "2025-04-15T12:07:06.938Z"
      },
      {
        "duration": 9,
        "start_time": "2025-04-16T21:37:36.117Z"
      },
      {
        "duration": 3922,
        "start_time": "2025-04-17T12:10:29.158Z"
      },
      {
        "duration": 1830,
        "start_time": "2025-04-17T12:10:33.083Z"
      },
      {
        "duration": 240,
        "start_time": "2025-04-17T12:10:34.914Z"
      },
      {
        "duration": 191,
        "start_time": "2025-04-17T12:10:35.156Z"
      },
      {
        "duration": 200,
        "start_time": "2025-04-17T12:10:35.349Z"
      },
      {
        "duration": 56,
        "start_time": "2025-04-17T12:10:35.551Z"
      },
      {
        "duration": 85,
        "start_time": "2025-04-17T12:10:35.610Z"
      },
      {
        "duration": 149,
        "start_time": "2025-04-17T12:10:35.697Z"
      },
      {
        "duration": 244,
        "start_time": "2025-04-17T12:10:35.848Z"
      },
      {
        "duration": 39,
        "start_time": "2025-04-17T12:10:36.095Z"
      },
      {
        "duration": 58,
        "start_time": "2025-04-17T12:10:36.136Z"
      },
      {
        "duration": 37,
        "start_time": "2025-04-17T12:10:36.195Z"
      },
      {
        "duration": 56,
        "start_time": "2025-04-17T12:10:36.234Z"
      },
      {
        "duration": 1075,
        "start_time": "2025-04-17T12:10:36.292Z"
      },
      {
        "duration": 939,
        "start_time": "2025-04-17T12:10:37.370Z"
      },
      {
        "duration": 1065,
        "start_time": "2025-04-17T12:10:38.311Z"
      },
      {
        "duration": 5,
        "start_time": "2025-04-17T12:10:39.378Z"
      },
      {
        "duration": 575,
        "start_time": "2025-04-17T12:10:39.386Z"
      },
      {
        "duration": 1001,
        "start_time": "2025-04-17T12:10:39.964Z"
      },
      {
        "duration": 987,
        "start_time": "2025-04-17T12:10:40.967Z"
      },
      {
        "duration": 888,
        "start_time": "2025-04-17T12:10:41.956Z"
      },
      {
        "duration": 492,
        "start_time": "2025-04-17T12:10:42.846Z"
      },
      {
        "duration": 569,
        "start_time": "2025-04-17T12:10:43.340Z"
      },
      {
        "duration": 256,
        "start_time": "2025-04-17T12:10:43.911Z"
      },
      {
        "duration": 370,
        "start_time": "2025-04-17T12:10:44.169Z"
      },
      {
        "duration": 514,
        "start_time": "2025-04-17T12:10:44.541Z"
      },
      {
        "duration": 316,
        "start_time": "2025-04-17T12:10:45.056Z"
      },
      {
        "duration": 464,
        "start_time": "2025-04-17T12:10:45.377Z"
      },
      {
        "duration": 384,
        "start_time": "2025-04-17T12:10:45.843Z"
      },
      {
        "duration": 735,
        "start_time": "2025-04-17T12:10:46.229Z"
      },
      {
        "duration": 3,
        "start_time": "2025-04-17T12:10:46.966Z"
      },
      {
        "duration": 775,
        "start_time": "2025-04-17T12:10:46.971Z"
      },
      {
        "duration": 681,
        "start_time": "2025-04-17T12:10:47.748Z"
      },
      {
        "duration": 701,
        "start_time": "2025-04-17T12:10:48.431Z"
      },
      {
        "duration": 13646,
        "start_time": "2025-04-17T12:10:49.134Z"
      },
      {
        "duration": 99,
        "start_time": "2025-04-17T12:11:02.782Z"
      },
      {
        "duration": 312,
        "start_time": "2025-04-17T12:11:02.883Z"
      },
      {
        "duration": 0,
        "start_time": "2025-04-17T12:11:03.197Z"
      },
      {
        "duration": 0,
        "start_time": "2025-04-17T12:11:03.198Z"
      },
      {
        "duration": 2758,
        "start_time": "2025-04-17T12:12:06.844Z"
      },
      {
        "duration": 1600,
        "start_time": "2025-04-17T12:12:09.605Z"
      },
      {
        "duration": 192,
        "start_time": "2025-04-17T12:12:11.207Z"
      },
      {
        "duration": 180,
        "start_time": "2025-04-17T12:12:11.402Z"
      },
      {
        "duration": 196,
        "start_time": "2025-04-17T12:12:11.585Z"
      },
      {
        "duration": 49,
        "start_time": "2025-04-17T12:12:11.783Z"
      },
      {
        "duration": 132,
        "start_time": "2025-04-17T12:12:11.833Z"
      },
      {
        "duration": 94,
        "start_time": "2025-04-17T12:12:11.967Z"
      },
      {
        "duration": 189,
        "start_time": "2025-04-17T12:12:12.062Z"
      },
      {
        "duration": 42,
        "start_time": "2025-04-17T12:12:12.265Z"
      },
      {
        "duration": 36,
        "start_time": "2025-04-17T12:12:12.308Z"
      },
      {
        "duration": 58,
        "start_time": "2025-04-17T12:12:12.346Z"
      },
      {
        "duration": 4,
        "start_time": "2025-04-17T12:12:12.406Z"
      },
      {
        "duration": 998,
        "start_time": "2025-04-17T12:12:12.412Z"
      },
      {
        "duration": 915,
        "start_time": "2025-04-17T12:12:13.411Z"
      },
      {
        "duration": 1078,
        "start_time": "2025-04-17T12:12:14.328Z"
      },
      {
        "duration": 6,
        "start_time": "2025-04-17T12:12:15.409Z"
      },
      {
        "duration": 727,
        "start_time": "2025-04-17T12:12:15.417Z"
      },
      {
        "duration": 1075,
        "start_time": "2025-04-17T12:12:16.146Z"
      },
      {
        "duration": 1075,
        "start_time": "2025-04-17T12:12:17.224Z"
      },
      {
        "duration": 916,
        "start_time": "2025-04-17T12:12:18.301Z"
      },
      {
        "duration": 509,
        "start_time": "2025-04-17T12:12:19.218Z"
      },
      {
        "duration": 578,
        "start_time": "2025-04-17T12:12:19.729Z"
      },
      {
        "duration": 279,
        "start_time": "2025-04-17T12:12:20.309Z"
      },
      {
        "duration": 376,
        "start_time": "2025-04-17T12:12:20.589Z"
      },
      {
        "duration": 507,
        "start_time": "2025-04-17T12:12:20.967Z"
      },
      {
        "duration": 344,
        "start_time": "2025-04-17T12:12:21.476Z"
      },
      {
        "duration": 460,
        "start_time": "2025-04-17T12:12:21.823Z"
      },
      {
        "duration": 399,
        "start_time": "2025-04-17T12:12:22.285Z"
      },
      {
        "duration": 704,
        "start_time": "2025-04-17T12:12:22.686Z"
      },
      {
        "duration": 3,
        "start_time": "2025-04-17T12:12:23.392Z"
      },
      {
        "duration": 772,
        "start_time": "2025-04-17T12:12:23.397Z"
      },
      {
        "duration": 752,
        "start_time": "2025-04-17T12:12:24.171Z"
      },
      {
        "duration": 694,
        "start_time": "2025-04-17T12:12:24.925Z"
      },
      {
        "duration": 13551,
        "start_time": "2025-04-17T12:12:25.621Z"
      },
      {
        "duration": 5,
        "start_time": "2025-04-17T12:12:39.177Z"
      },
      {
        "duration": 118,
        "start_time": "2025-04-17T12:12:39.274Z"
      },
      {
        "duration": 3,
        "start_time": "2025-04-17T12:12:39.394Z"
      },
      {
        "duration": 4839,
        "start_time": "2025-04-17T12:12:39.399Z"
      },
      {
        "duration": 2681,
        "start_time": "2025-04-17T12:13:37.959Z"
      },
      {
        "duration": 1537,
        "start_time": "2025-04-17T12:13:40.643Z"
      },
      {
        "duration": 192,
        "start_time": "2025-04-17T12:13:42.182Z"
      },
      {
        "duration": 176,
        "start_time": "2025-04-17T12:13:42.376Z"
      },
      {
        "duration": 177,
        "start_time": "2025-04-17T12:13:42.554Z"
      },
      {
        "duration": 54,
        "start_time": "2025-04-17T12:13:42.732Z"
      },
      {
        "duration": 83,
        "start_time": "2025-04-17T12:13:42.788Z"
      },
      {
        "duration": 88,
        "start_time": "2025-04-17T12:13:42.873Z"
      },
      {
        "duration": 215,
        "start_time": "2025-04-17T12:13:42.962Z"
      },
      {
        "duration": 40,
        "start_time": "2025-04-17T12:13:43.180Z"
      },
      {
        "duration": 60,
        "start_time": "2025-04-17T12:13:43.221Z"
      },
      {
        "duration": 38,
        "start_time": "2025-04-17T12:13:43.283Z"
      },
      {
        "duration": 5,
        "start_time": "2025-04-17T12:13:43.322Z"
      },
      {
        "duration": 1027,
        "start_time": "2025-04-17T12:13:43.329Z"
      },
      {
        "duration": 948,
        "start_time": "2025-04-17T12:13:44.358Z"
      },
      {
        "duration": 1105,
        "start_time": "2025-04-17T12:13:45.308Z"
      },
      {
        "duration": 6,
        "start_time": "2025-04-17T12:13:46.414Z"
      },
      {
        "duration": 590,
        "start_time": "2025-04-17T12:13:46.422Z"
      },
      {
        "duration": 1081,
        "start_time": "2025-04-17T12:13:47.014Z"
      },
      {
        "duration": 1043,
        "start_time": "2025-04-17T12:13:48.097Z"
      },
      {
        "duration": 914,
        "start_time": "2025-04-17T12:13:49.142Z"
      },
      {
        "duration": 513,
        "start_time": "2025-04-17T12:13:50.061Z"
      },
      {
        "duration": 609,
        "start_time": "2025-04-17T12:13:50.577Z"
      },
      {
        "duration": 279,
        "start_time": "2025-04-17T12:13:51.189Z"
      },
      {
        "duration": 410,
        "start_time": "2025-04-17T12:13:51.471Z"
      },
      {
        "duration": 553,
        "start_time": "2025-04-17T12:13:51.883Z"
      },
      {
        "duration": 317,
        "start_time": "2025-04-17T12:13:52.438Z"
      },
      {
        "duration": 481,
        "start_time": "2025-04-17T12:13:52.762Z"
      },
      {
        "duration": 412,
        "start_time": "2025-04-17T12:13:53.245Z"
      },
      {
        "duration": 742,
        "start_time": "2025-04-17T12:13:53.662Z"
      },
      {
        "duration": 3,
        "start_time": "2025-04-17T12:13:54.405Z"
      },
      {
        "duration": 709,
        "start_time": "2025-04-17T12:13:54.410Z"
      },
      {
        "duration": 694,
        "start_time": "2025-04-17T12:13:55.121Z"
      },
      {
        "duration": 690,
        "start_time": "2025-04-17T12:13:55.817Z"
      },
      {
        "duration": 13669,
        "start_time": "2025-04-17T12:13:56.509Z"
      },
      {
        "duration": 87,
        "start_time": "2025-04-17T12:14:10.181Z"
      },
      {
        "duration": 172,
        "start_time": "2025-04-17T12:14:10.276Z"
      },
      {
        "duration": 4,
        "start_time": "2025-04-17T12:14:10.449Z"
      },
      {
        "duration": 4792,
        "start_time": "2025-04-17T12:14:10.454Z"
      },
      {
        "duration": 13346,
        "start_time": "2025-04-17T12:15:23.742Z"
      },
      {
        "duration": 451,
        "start_time": "2025-04-17T18:36:43.955Z"
      },
      {
        "duration": 3577,
        "start_time": "2025-04-17T18:36:51.119Z"
      },
      {
        "duration": 1822,
        "start_time": "2025-04-17T18:36:54.699Z"
      },
      {
        "duration": 240,
        "start_time": "2025-04-17T18:36:56.523Z"
      },
      {
        "duration": 181,
        "start_time": "2025-04-17T18:36:56.765Z"
      },
      {
        "duration": 192,
        "start_time": "2025-04-17T18:36:56.948Z"
      },
      {
        "duration": 47,
        "start_time": "2025-04-17T18:36:57.142Z"
      },
      {
        "duration": 78,
        "start_time": "2025-04-17T18:36:57.190Z"
      },
      {
        "duration": 94,
        "start_time": "2025-04-17T18:36:57.270Z"
      },
      {
        "duration": 168,
        "start_time": "2025-04-17T18:36:57.366Z"
      },
      {
        "duration": 40,
        "start_time": "2025-04-17T18:36:57.535Z"
      },
      {
        "duration": 62,
        "start_time": "2025-04-17T18:36:57.576Z"
      },
      {
        "duration": 39,
        "start_time": "2025-04-17T18:36:57.640Z"
      },
      {
        "duration": 149,
        "start_time": "2025-04-17T18:36:57.681Z"
      },
      {
        "duration": 992,
        "start_time": "2025-04-17T18:36:57.834Z"
      },
      {
        "duration": 903,
        "start_time": "2025-04-17T18:36:58.828Z"
      },
      {
        "duration": 1061,
        "start_time": "2025-04-17T18:36:59.733Z"
      },
      {
        "duration": 9,
        "start_time": "2025-04-17T18:37:00.796Z"
      },
      {
        "duration": 550,
        "start_time": "2025-04-17T18:37:00.807Z"
      },
      {
        "duration": 1024,
        "start_time": "2025-04-17T18:37:01.359Z"
      },
      {
        "duration": 1012,
        "start_time": "2025-04-17T18:37:02.385Z"
      },
      {
        "duration": 908,
        "start_time": "2025-04-17T18:37:03.399Z"
      },
      {
        "duration": 499,
        "start_time": "2025-04-17T18:37:04.309Z"
      },
      {
        "duration": 582,
        "start_time": "2025-04-17T18:37:04.810Z"
      },
      {
        "duration": 261,
        "start_time": "2025-04-17T18:37:05.394Z"
      },
      {
        "duration": 363,
        "start_time": "2025-04-17T18:37:05.658Z"
      },
      {
        "duration": 518,
        "start_time": "2025-04-17T18:37:06.023Z"
      },
      {
        "duration": 324,
        "start_time": "2025-04-17T18:37:06.543Z"
      },
      {
        "duration": 439,
        "start_time": "2025-04-17T18:37:06.869Z"
      },
      {
        "duration": 377,
        "start_time": "2025-04-17T18:37:07.310Z"
      },
      {
        "duration": 710,
        "start_time": "2025-04-17T18:37:07.690Z"
      },
      {
        "duration": 3,
        "start_time": "2025-04-17T18:37:08.406Z"
      },
      {
        "duration": 794,
        "start_time": "2025-04-17T18:37:08.411Z"
      },
      {
        "duration": 684,
        "start_time": "2025-04-17T18:37:09.206Z"
      },
      {
        "duration": 715,
        "start_time": "2025-04-17T18:37:09.892Z"
      },
      {
        "duration": 13906,
        "start_time": "2025-04-17T18:37:10.610Z"
      },
      {
        "duration": 89,
        "start_time": "2025-04-17T18:37:24.519Z"
      },
      {
        "duration": 230,
        "start_time": "2025-04-17T18:37:24.610Z"
      },
      {
        "duration": 5,
        "start_time": "2025-04-17T18:37:24.842Z"
      },
      {
        "duration": 4981,
        "start_time": "2025-04-17T18:37:24.849Z"
      },
      {
        "duration": 2716,
        "start_time": "2025-04-17T20:25:42.208Z"
      },
      {
        "duration": 1680,
        "start_time": "2025-04-17T20:25:44.927Z"
      },
      {
        "duration": 195,
        "start_time": "2025-04-17T20:25:46.609Z"
      },
      {
        "duration": 174,
        "start_time": "2025-04-17T20:25:46.806Z"
      },
      {
        "duration": 182,
        "start_time": "2025-04-17T20:25:46.981Z"
      },
      {
        "duration": 53,
        "start_time": "2025-04-17T20:25:47.164Z"
      },
      {
        "duration": 68,
        "start_time": "2025-04-17T20:25:47.219Z"
      },
      {
        "duration": 94,
        "start_time": "2025-04-17T20:25:47.289Z"
      },
      {
        "duration": 176,
        "start_time": "2025-04-17T20:25:47.385Z"
      },
      {
        "duration": 52,
        "start_time": "2025-04-17T20:25:47.564Z"
      },
      {
        "duration": 37,
        "start_time": "2025-04-17T20:25:47.618Z"
      },
      {
        "duration": 52,
        "start_time": "2025-04-17T20:25:47.657Z"
      },
      {
        "duration": 5,
        "start_time": "2025-04-17T20:25:47.711Z"
      },
      {
        "duration": 975,
        "start_time": "2025-04-17T20:25:47.717Z"
      },
      {
        "duration": 858,
        "start_time": "2025-04-17T20:25:48.694Z"
      },
      {
        "duration": 1017,
        "start_time": "2025-04-17T20:25:49.553Z"
      },
      {
        "duration": 7,
        "start_time": "2025-04-17T20:25:50.571Z"
      },
      {
        "duration": 508,
        "start_time": "2025-04-17T20:25:50.579Z"
      },
      {
        "duration": 952,
        "start_time": "2025-04-17T20:25:51.088Z"
      },
      {
        "duration": 964,
        "start_time": "2025-04-17T20:25:52.042Z"
      },
      {
        "duration": 881,
        "start_time": "2025-04-17T20:25:53.007Z"
      },
      {
        "duration": 492,
        "start_time": "2025-04-17T20:25:53.890Z"
      },
      {
        "duration": 548,
        "start_time": "2025-04-17T20:25:54.384Z"
      },
      {
        "duration": 260,
        "start_time": "2025-04-17T20:25:54.934Z"
      },
      {
        "duration": 357,
        "start_time": "2025-04-17T20:25:55.196Z"
      },
      {
        "duration": 490,
        "start_time": "2025-04-17T20:25:55.554Z"
      },
      {
        "duration": 320,
        "start_time": "2025-04-17T20:25:56.046Z"
      },
      {
        "duration": 420,
        "start_time": "2025-04-17T20:25:56.370Z"
      },
      {
        "duration": 378,
        "start_time": "2025-04-17T20:25:56.792Z"
      },
      {
        "duration": 690,
        "start_time": "2025-04-17T20:25:57.172Z"
      },
      {
        "duration": 3,
        "start_time": "2025-04-17T20:25:57.864Z"
      },
      {
        "duration": 711,
        "start_time": "2025-04-17T20:25:57.868Z"
      },
      {
        "duration": 681,
        "start_time": "2025-04-17T20:25:58.581Z"
      },
      {
        "duration": 676,
        "start_time": "2025-04-17T20:25:59.264Z"
      },
      {
        "duration": 13766,
        "start_time": "2025-04-17T20:25:59.941Z"
      },
      {
        "duration": 95,
        "start_time": "2025-04-17T20:26:13.709Z"
      },
      {
        "duration": 160,
        "start_time": "2025-04-17T20:26:13.809Z"
      },
      {
        "duration": 4,
        "start_time": "2025-04-17T20:26:13.971Z"
      },
      {
        "duration": 1546,
        "start_time": "2025-04-17T20:26:13.977Z"
      },
      {
        "duration": 4597,
        "start_time": "2025-04-17T20:27:34.835Z"
      },
      {
        "duration": 2629,
        "start_time": "2025-04-18T04:21:04.628Z"
      },
      {
        "duration": 1522,
        "start_time": "2025-04-18T04:21:07.259Z"
      },
      {
        "duration": 194,
        "start_time": "2025-04-18T04:21:08.783Z"
      },
      {
        "duration": 173,
        "start_time": "2025-04-18T04:21:08.979Z"
      },
      {
        "duration": 178,
        "start_time": "2025-04-18T04:21:09.154Z"
      },
      {
        "duration": 51,
        "start_time": "2025-04-18T04:21:09.334Z"
      },
      {
        "duration": 88,
        "start_time": "2025-04-18T04:21:09.387Z"
      },
      {
        "duration": 96,
        "start_time": "2025-04-18T04:21:09.477Z"
      },
      {
        "duration": 179,
        "start_time": "2025-04-18T04:21:09.575Z"
      },
      {
        "duration": 50,
        "start_time": "2025-04-18T04:21:09.756Z"
      },
      {
        "duration": 52,
        "start_time": "2025-04-18T04:21:09.807Z"
      },
      {
        "duration": 37,
        "start_time": "2025-04-18T04:21:09.860Z"
      },
      {
        "duration": 10,
        "start_time": "2025-04-18T04:21:09.898Z"
      },
      {
        "duration": 956,
        "start_time": "2025-04-18T04:21:09.911Z"
      },
      {
        "duration": 853,
        "start_time": "2025-04-18T04:21:10.868Z"
      },
      {
        "duration": 1001,
        "start_time": "2025-04-18T04:21:11.722Z"
      },
      {
        "duration": 5,
        "start_time": "2025-04-18T04:21:12.725Z"
      },
      {
        "duration": 479,
        "start_time": "2025-04-18T04:21:12.731Z"
      },
      {
        "duration": 951,
        "start_time": "2025-04-18T04:21:13.212Z"
      },
      {
        "duration": 979,
        "start_time": "2025-04-18T04:21:14.164Z"
      },
      {
        "duration": 862,
        "start_time": "2025-04-18T04:21:15.145Z"
      },
      {
        "duration": 494,
        "start_time": "2025-04-18T04:21:16.009Z"
      },
      {
        "duration": 520,
        "start_time": "2025-04-18T04:21:16.505Z"
      },
      {
        "duration": 241,
        "start_time": "2025-04-18T04:21:17.027Z"
      },
      {
        "duration": 348,
        "start_time": "2025-04-18T04:21:17.270Z"
      },
      {
        "duration": 488,
        "start_time": "2025-04-18T04:21:17.620Z"
      },
      {
        "duration": 297,
        "start_time": "2025-04-18T04:21:18.110Z"
      },
      {
        "duration": 425,
        "start_time": "2025-04-18T04:21:18.409Z"
      },
      {
        "duration": 373,
        "start_time": "2025-04-18T04:21:18.836Z"
      },
      {
        "duration": 687,
        "start_time": "2025-04-18T04:21:19.211Z"
      },
      {
        "duration": 6,
        "start_time": "2025-04-18T04:21:19.900Z"
      },
      {
        "duration": 659,
        "start_time": "2025-04-18T04:21:19.907Z"
      },
      {
        "duration": 675,
        "start_time": "2025-04-18T04:21:20.567Z"
      },
      {
        "duration": 657,
        "start_time": "2025-04-18T04:21:21.244Z"
      },
      {
        "duration": 13803,
        "start_time": "2025-04-18T04:21:21.905Z"
      },
      {
        "duration": 94,
        "start_time": "2025-04-18T04:21:35.711Z"
      },
      {
        "duration": 165,
        "start_time": "2025-04-18T04:21:35.807Z"
      },
      {
        "duration": 6,
        "start_time": "2025-04-18T04:21:35.974Z"
      },
      {
        "duration": 4632,
        "start_time": "2025-04-18T04:21:35.981Z"
      }
    ],
    "toc": {
      "base_numbering": "1",
      "nav_menu": {},
      "number_sections": false,
      "sideBar": true,
      "skip_h1_title": true,
      "title_cell": "Содержание:",
      "title_sidebar": "Contents",
      "toc_cell": true,
      "toc_position": {
        "height": "calc(100% - 180px)",
        "left": "10px",
        "top": "150px",
        "width": "217.148px"
      },
      "toc_section_display": true,
      "toc_window_display": true
    }
  },
  "nbformat_minor": 4,
  "nbformat": 4,
  "cells": [
    {
      "cell_type": "markdown",
      "source": "<h1>Содержание:<span class=\"tocSkip\"></span></h1>\n<div class=\"toc\"><ul class=\"toc-item\"><li><span><a href=\"#Описание-проекта:-Выбор-локации-для-скважины\" data-toc-modified-id=\"Описание-проекта:-Выбор-локации-для-скважины-1\">Описание проекта: Выбор локации для скважины</a></span></li><li><span><a href=\"#Шаг-1.-Загрузка-и-подготовка-данных\" data-toc-modified-id=\"Шаг-1.-Загрузка-и-подготовка-данных-2\">Шаг 1. Загрузка и подготовка данных</a></span><ul class=\"toc-item\"><li><span><a href=\"#Установка-пакетов-и-импорт-библиотек\" data-toc-modified-id=\"Установка-пакетов-и-импорт-библиотек-2.1\">Установка пакетов и импорт библиотек</a></span></li><li><span><a href=\"#Загрузка-данных\" data-toc-modified-id=\"Загрузка-данных-2.2\">Загрузка данных</a></span></li><li><span><a href=\"#Предобработка-данных\" data-toc-modified-id=\"Предобработка-данных-2.3\">Предобработка данных</a></span></li><li><span><a href=\"#Исследовательский-анализ-данных\" data-toc-modified-id=\"Исследовательский-анализ-данных-2.4\">Исследовательский анализ данных</a></span></li><li><span><a href=\"#Корреляционный-анализ-данных\" data-toc-modified-id=\"Корреляционный-анализ-данных-2.5\">Корреляционный анализ данных</a></span></li></ul></li><li><span><a href=\"#Шаг-2.-Обучение-и-проверка-модели\" data-toc-modified-id=\"Шаг-2.-Обучение-и-проверка-модели-3\">Шаг 2. Обучение и проверка модели</a></span></li><li><span><a href=\"#Шаг-3.-Подготовка-к-расчёту-прибыли\" data-toc-modified-id=\"Шаг-3.-Подготовка-к-расчёту-прибыли-4\">Шаг 3. Подготовка к расчёту прибыли</a></span><ul class=\"toc-item\"><li><span><a href=\"#Сохранение-всех-ключевых-значений-для-расчётов-в-отдельных-переменных\" data-toc-modified-id=\"Сохранение-всех-ключевых-значений-для-расчётов-в-отдельных-переменных-4.1\">Сохранение всех ключевых значений для расчётов в отдельных переменных</a></span></li><li><span><a href=\"#Рассчет-достаточного-объёма-сырья-для-безубыточной-разработки-новой-скважины.-Сравнение-полученного-объёма-сырья-со-средним-запасом-в-каждом-регионе\" data-toc-modified-id=\"Рассчет-достаточного-объёма-сырья-для-безубыточной-разработки-новой-скважины.-Сравнение-полученного-объёма-сырья-со-средним-запасом-в-каждом-регионе-4.2\">Рассчет достаточного объёма сырья для безубыточной разработки новой скважины. Сравнение полученного объёма сырья со средним запасом в каждом регионе</a></span></li></ul></li><li><span><a href=\"#Шаг-4.-Расчёт-прибыли-и-рисков\" data-toc-modified-id=\"Шаг-4.-Расчёт-прибыли-и-рисков-5\">Шаг 4. Расчёт прибыли и рисков</a></span><ul class=\"toc-item\"><li><span><a href=\"#Подготовка-функции-для-расчёта-прибыли-по-выбранным-скважинам-и-предсказаниям-модели\" data-toc-modified-id=\"Подготовка-функции-для-расчёта-прибыли-по-выбранным-скважинам-и-предсказаниям-модели-5.1\">Подготовка функции для расчёта прибыли по выбранным скважинам и предсказаниям модели</a></span></li><li><span><a href=\"#Подсчет-рисков-и-прибыли-для-каждого-региона\" data-toc-modified-id=\"Подсчет-рисков-и-прибыли-для-каждого-региона-5.2\">Подсчет рисков и прибыли для каждого региона</a></span></li></ul></li><li><span><a href=\"#Шаг-5.-Общий-вывод-по-исследованию:\" data-toc-modified-id=\"Шаг-5.-Общий-вывод-по-исследованию:-6\">Шаг 5. Общий вывод по исследованию:</a></span></li></ul></div>",
      "metadata": {
        "toc": true
      }
    },
    {
      "cell_type": "markdown",
      "source": "## Описание проекта: Выбор локации для скважины",
      "metadata": {}
    },
    {
      "cell_type": "markdown",
      "source": "Компании «ГлавРосГосНефть» нужно решить, где бурить новую скважину.\n\nПредоставлены пробы нефти в трёх регионах: в каждом 100 000 месторождений, где измерили качество нефти и объём её запасов. Постройте модель машинного обучения, которая поможет определить регион, где добыча принесёт наибольшую прибыль. Проанализируйте возможную прибыль и риски техникой *Bootstrap.*",
      "metadata": {}
    },
    {
      "cell_type": "markdown",
      "source": "**Цель исследования:** определить, где бурить новую скважину.\n    \n**Задачи исследования:**\n1) Построить модель для определения региона, где добыча принесёт наибольшую прибыль;\n\n2) Проанализировать возможную прибыль и риски техникой Bootstrap.\n\n**Описание данных**\n\n>Данные геологоразведки трёх регионов находятся в файлах: \n+ [/datasets/geo_data_0.csv.](https://code.s3.yandex.net/datasets/geo_data_0.csv)\n+ [/datasets/geo_data_1.csv.](https://code.s3.yandex.net/datasets/geo_data_1.csv)\n+ [/datasets/geo_data_2.csv.](https://code.s3.yandex.net/datasets/geo_data_2.csv)\n\nГде:\n+ `id` — уникальный идентификатор скважины;\n+ `f0, f1, f2` — три признака точек (неважно, что они означают, но сами признаки значимы);\n+ `product` — объём запасов в скважине (тыс. баррелей).\n\nШаги для выбора локации:\n\n+ В избранном регионе ищут месторождения, для каждого определяют значения признаков;\n+ Строят модель и оценивают объём запасов;\n+ Выбирают месторождения с самым высокими оценками значений. Количество месторождений зависит от бюджета компании и стоимости разработки одной скважины;\n+ Прибыль равна суммарной прибыли отобранных месторождений.\n\n**Ход исследования:**\n1. Загрузка и подготовка данных\n2. Обучение и проверка модели для каждого региона\n3. Подготовка к расчёту прибыли\n4. Расчёт прибыли и рисков для каждого региона\n5. Вывод по исследованию",
      "metadata": {}
    },
    {
      "cell_type": "markdown",
      "source": "## Шаг 1. Загрузка и подготовка данных",
      "metadata": {}
    },
    {
      "cell_type": "markdown",
      "source": "### Установка пакетов и импорт библиотек",
      "metadata": {}
    },
    {
      "cell_type": "markdown",
      "source": "**Установка пакетов**",
      "metadata": {}
    },
    {
      "cell_type": "code",
      "source": "!pip install phik -q",
      "metadata": {},
      "outputs": [],
      "execution_count": 1
    },
    {
      "cell_type": "markdown",
      "source": "**Иморт библиотек**",
      "metadata": {}
    },
    {
      "cell_type": "code",
      "source": "import os\nimport numpy as np\nimport pandas  as pd\npd.set_option('display.max_columns', None)\npd.set_option('display.max_colwidth', None)\nimport phik\nfrom phik import phik_matrix\nimport matplotlib.pyplot as plt\nimport seaborn as sns\nimport warnings\nwarnings.simplefilter(action='ignore', category=FutureWarning)\nwarnings.filterwarnings(\"ignore\")\nfrom sklearn.exceptions import FitFailedWarning \n\n\nfrom sklearn.compose import ColumnTransformer\nfrom sklearn.model_selection import (RandomizedSearchCV,\n                                     train_test_split\n                                    )\nfrom sklearn.preprocessing import (MinMaxScaler,\n                                   RobustScaler,\n                                   StandardScaler\n                                  )\nfrom sklearn.metrics import mean_squared_error\nfrom sklearn.pipeline import Pipeline\nfrom sklearn.linear_model import LinearRegression",
      "metadata": {},
      "outputs": [],
      "execution_count": 2
    },
    {
      "cell_type": "markdown",
      "source": "### Загрузка данных",
      "metadata": {}
    },
    {
      "cell_type": "code",
      "source": "# Датасет 1\npth1 = '/datasets/geo_data_0.csv'\npth2 = 'https://code.s3.yandex.net/datasets/geo_data_0.csv'\n\nif os.path.exists(pth1):\n    geo_data_0 = pd.read_csv(pth1, index_col='id')\nelse:\n    geo_data_0 = pd.read_csv(pth2, index_col='id')\ngeo_data_0.head()",
      "metadata": {},
      "outputs": [
        {
          "data": {
            "text/html": [
              "<div>\n",
              "<style scoped>\n",
              "    .dataframe tbody tr th:only-of-type {\n",
              "        vertical-align: middle;\n",
              "    }\n",
              "\n",
              "    .dataframe tbody tr th {\n",
              "        vertical-align: top;\n",
              "    }\n",
              "\n",
              "    .dataframe thead th {\n",
              "        text-align: right;\n",
              "    }\n",
              "</style>\n",
              "<table border=\"1\" class=\"dataframe\">\n",
              "  <thead>\n",
              "    <tr style=\"text-align: right;\">\n",
              "      <th></th>\n",
              "      <th>f0</th>\n",
              "      <th>f1</th>\n",
              "      <th>f2</th>\n",
              "      <th>product</th>\n",
              "    </tr>\n",
              "    <tr>\n",
              "      <th>id</th>\n",
              "      <th></th>\n",
              "      <th></th>\n",
              "      <th></th>\n",
              "      <th></th>\n",
              "    </tr>\n",
              "  </thead>\n",
              "  <tbody>\n",
              "    <tr>\n",
              "      <th>txEyH</th>\n",
              "      <td>0.705745</td>\n",
              "      <td>-0.497823</td>\n",
              "      <td>1.221170</td>\n",
              "      <td>105.280062</td>\n",
              "    </tr>\n",
              "    <tr>\n",
              "      <th>2acmU</th>\n",
              "      <td>1.334711</td>\n",
              "      <td>-0.340164</td>\n",
              "      <td>4.365080</td>\n",
              "      <td>73.037750</td>\n",
              "    </tr>\n",
              "    <tr>\n",
              "      <th>409Wp</th>\n",
              "      <td>1.022732</td>\n",
              "      <td>0.151990</td>\n",
              "      <td>1.419926</td>\n",
              "      <td>85.265647</td>\n",
              "    </tr>\n",
              "    <tr>\n",
              "      <th>iJLyR</th>\n",
              "      <td>-0.032172</td>\n",
              "      <td>0.139033</td>\n",
              "      <td>2.978566</td>\n",
              "      <td>168.620776</td>\n",
              "    </tr>\n",
              "    <tr>\n",
              "      <th>Xdl7t</th>\n",
              "      <td>1.988431</td>\n",
              "      <td>0.155413</td>\n",
              "      <td>4.751769</td>\n",
              "      <td>154.036647</td>\n",
              "    </tr>\n",
              "  </tbody>\n",
              "</table>\n",
              "</div>"
            ],
            "text/plain": [
              "             f0        f1        f2     product\n",
              "id                                             \n",
              "txEyH  0.705745 -0.497823  1.221170  105.280062\n",
              "2acmU  1.334711 -0.340164  4.365080   73.037750\n",
              "409Wp  1.022732  0.151990  1.419926   85.265647\n",
              "iJLyR -0.032172  0.139033  2.978566  168.620776\n",
              "Xdl7t  1.988431  0.155413  4.751769  154.036647"
            ]
          },
          "execution_count": 3,
          "metadata": {},
          "output_type": "execute_result"
        }
      ],
      "execution_count": 3
    },
    {
      "cell_type": "code",
      "source": "# Датасет 2\npth1 = '/datasets/geo_data_1.csv'\npth2 = 'https://code.s3.yandex.net/datasets/geo_data_1.csv'\n\nif os.path.exists(pth1):\n    geo_data_1 = pd.read_csv(pth1, index_col='id')\nelse:\n    geo_data_1 = pd.read_csv(pth2, index_col='id')\ngeo_data_1.head()",
      "metadata": {},
      "outputs": [
        {
          "data": {
            "text/html": [
              "<div>\n",
              "<style scoped>\n",
              "    .dataframe tbody tr th:only-of-type {\n",
              "        vertical-align: middle;\n",
              "    }\n",
              "\n",
              "    .dataframe tbody tr th {\n",
              "        vertical-align: top;\n",
              "    }\n",
              "\n",
              "    .dataframe thead th {\n",
              "        text-align: right;\n",
              "    }\n",
              "</style>\n",
              "<table border=\"1\" class=\"dataframe\">\n",
              "  <thead>\n",
              "    <tr style=\"text-align: right;\">\n",
              "      <th></th>\n",
              "      <th>f0</th>\n",
              "      <th>f1</th>\n",
              "      <th>f2</th>\n",
              "      <th>product</th>\n",
              "    </tr>\n",
              "    <tr>\n",
              "      <th>id</th>\n",
              "      <th></th>\n",
              "      <th></th>\n",
              "      <th></th>\n",
              "      <th></th>\n",
              "    </tr>\n",
              "  </thead>\n",
              "  <tbody>\n",
              "    <tr>\n",
              "      <th>kBEdx</th>\n",
              "      <td>-15.001348</td>\n",
              "      <td>-8.276000</td>\n",
              "      <td>-0.005876</td>\n",
              "      <td>3.179103</td>\n",
              "    </tr>\n",
              "    <tr>\n",
              "      <th>62mP7</th>\n",
              "      <td>14.272088</td>\n",
              "      <td>-3.475083</td>\n",
              "      <td>0.999183</td>\n",
              "      <td>26.953261</td>\n",
              "    </tr>\n",
              "    <tr>\n",
              "      <th>vyE1P</th>\n",
              "      <td>6.263187</td>\n",
              "      <td>-5.948386</td>\n",
              "      <td>5.001160</td>\n",
              "      <td>134.766305</td>\n",
              "    </tr>\n",
              "    <tr>\n",
              "      <th>KcrkZ</th>\n",
              "      <td>-13.081196</td>\n",
              "      <td>-11.506057</td>\n",
              "      <td>4.999415</td>\n",
              "      <td>137.945408</td>\n",
              "    </tr>\n",
              "    <tr>\n",
              "      <th>AHL4O</th>\n",
              "      <td>12.702195</td>\n",
              "      <td>-8.147433</td>\n",
              "      <td>5.004363</td>\n",
              "      <td>134.766305</td>\n",
              "    </tr>\n",
              "  </tbody>\n",
              "</table>\n",
              "</div>"
            ],
            "text/plain": [
              "              f0         f1        f2     product\n",
              "id                                               \n",
              "kBEdx -15.001348  -8.276000 -0.005876    3.179103\n",
              "62mP7  14.272088  -3.475083  0.999183   26.953261\n",
              "vyE1P   6.263187  -5.948386  5.001160  134.766305\n",
              "KcrkZ -13.081196 -11.506057  4.999415  137.945408\n",
              "AHL4O  12.702195  -8.147433  5.004363  134.766305"
            ]
          },
          "execution_count": 4,
          "metadata": {},
          "output_type": "execute_result"
        }
      ],
      "execution_count": 4
    },
    {
      "cell_type": "code",
      "source": "# Датасет 3\npth1 = '/datasets/geo_data_2.csv'\npth2 = 'https://code.s3.yandex.net/datasets/geo_data_2.csv'\n\nif os.path.exists(pth1):\n    geo_data_2 = pd.read_csv(pth1, index_col='id')\nelse:\n    geo_data_2 = pd.read_csv(pth2, index_col='id')\ngeo_data_2.head()",
      "metadata": {},
      "outputs": [
        {
          "data": {
            "text/html": [
              "<div>\n",
              "<style scoped>\n",
              "    .dataframe tbody tr th:only-of-type {\n",
              "        vertical-align: middle;\n",
              "    }\n",
              "\n",
              "    .dataframe tbody tr th {\n",
              "        vertical-align: top;\n",
              "    }\n",
              "\n",
              "    .dataframe thead th {\n",
              "        text-align: right;\n",
              "    }\n",
              "</style>\n",
              "<table border=\"1\" class=\"dataframe\">\n",
              "  <thead>\n",
              "    <tr style=\"text-align: right;\">\n",
              "      <th></th>\n",
              "      <th>f0</th>\n",
              "      <th>f1</th>\n",
              "      <th>f2</th>\n",
              "      <th>product</th>\n",
              "    </tr>\n",
              "    <tr>\n",
              "      <th>id</th>\n",
              "      <th></th>\n",
              "      <th></th>\n",
              "      <th></th>\n",
              "      <th></th>\n",
              "    </tr>\n",
              "  </thead>\n",
              "  <tbody>\n",
              "    <tr>\n",
              "      <th>fwXo0</th>\n",
              "      <td>-1.146987</td>\n",
              "      <td>0.963328</td>\n",
              "      <td>-0.828965</td>\n",
              "      <td>27.758673</td>\n",
              "    </tr>\n",
              "    <tr>\n",
              "      <th>WJtFt</th>\n",
              "      <td>0.262778</td>\n",
              "      <td>0.269839</td>\n",
              "      <td>-2.530187</td>\n",
              "      <td>56.069697</td>\n",
              "    </tr>\n",
              "    <tr>\n",
              "      <th>ovLUW</th>\n",
              "      <td>0.194587</td>\n",
              "      <td>0.289035</td>\n",
              "      <td>-5.586433</td>\n",
              "      <td>62.871910</td>\n",
              "    </tr>\n",
              "    <tr>\n",
              "      <th>q6cA6</th>\n",
              "      <td>2.236060</td>\n",
              "      <td>-0.553760</td>\n",
              "      <td>0.930038</td>\n",
              "      <td>114.572842</td>\n",
              "    </tr>\n",
              "    <tr>\n",
              "      <th>WPMUX</th>\n",
              "      <td>-0.515993</td>\n",
              "      <td>1.716266</td>\n",
              "      <td>5.899011</td>\n",
              "      <td>149.600746</td>\n",
              "    </tr>\n",
              "  </tbody>\n",
              "</table>\n",
              "</div>"
            ],
            "text/plain": [
              "             f0        f1        f2     product\n",
              "id                                             \n",
              "fwXo0 -1.146987  0.963328 -0.828965   27.758673\n",
              "WJtFt  0.262778  0.269839 -2.530187   56.069697\n",
              "ovLUW  0.194587  0.289035 -5.586433   62.871910\n",
              "q6cA6  2.236060 -0.553760  0.930038  114.572842\n",
              "WPMUX -0.515993  1.716266  5.899011  149.600746"
            ]
          },
          "execution_count": 5,
          "metadata": {},
          "output_type": "execute_result"
        }
      ],
      "execution_count": 5
    },
    {
      "cell_type": "markdown",
      "source": "### Предобработка данных",
      "metadata": {}
    },
    {
      "cell_type": "code",
      "source": "# Удаление явных дубликатов в датафрейме\ngeo_data_0.drop_duplicates()\n# Получение сводки по датафрейму\ngeo_data_0.info()",
      "metadata": {},
      "outputs": [
        {
          "name": "stdout",
          "output_type": "stream",
          "text": "<class 'pandas.core.frame.DataFrame'>\n,Index: 100000 entries, txEyH to 1CWhH\n,Data columns (total 4 columns):\n, #   Column   Non-Null Count   Dtype  \n,---  ------   --------------   -----  \n, 0   f0       100000 non-null  float64\n, 1   f1       100000 non-null  float64\n, 2   f2       100000 non-null  float64\n, 3   product  100000 non-null  float64\n,dtypes: float64(4)\n,memory usage: 3.8+ MB\n"
        }
      ],
      "execution_count": 6
    },
    {
      "cell_type": "code",
      "source": "# Удаление явных дубликатов в датафрейме\ngeo_data_1.drop_duplicates()\n# Получение сводки по датафрейму\ngeo_data_1.drop_duplicates().info()",
      "metadata": {},
      "outputs": [
        {
          "name": "stdout",
          "output_type": "stream",
          "text": "<class 'pandas.core.frame.DataFrame'>\n,Index: 100000 entries, kBEdx to relB0\n,Data columns (total 4 columns):\n, #   Column   Non-Null Count   Dtype  \n,---  ------   --------------   -----  \n, 0   f0       100000 non-null  float64\n, 1   f1       100000 non-null  float64\n, 2   f2       100000 non-null  float64\n, 3   product  100000 non-null  float64\n,dtypes: float64(4)\n,memory usage: 3.8+ MB\n"
        }
      ],
      "execution_count": 7
    },
    {
      "cell_type": "code",
      "source": "# Удаление явных дубликатов в датафрейме\ngeo_data_2.drop_duplicates()\n# Получение сводки по датафрейму\ngeo_data_2.drop_duplicates().info()",
      "metadata": {},
      "outputs": [
        {
          "name": "stdout",
          "output_type": "stream",
          "text": "<class 'pandas.core.frame.DataFrame'>\n,Index: 100000 entries, fwXo0 to V9kWn\n,Data columns (total 4 columns):\n, #   Column   Non-Null Count   Dtype  \n,---  ------   --------------   -----  \n, 0   f0       100000 non-null  float64\n, 1   f1       100000 non-null  float64\n, 2   f2       100000 non-null  float64\n, 3   product  100000 non-null  float64\n,dtypes: float64(4)\n,memory usage: 3.8+ MB\n"
        }
      ],
      "execution_count": 8
    },
    {
      "cell_type": "markdown",
      "source": "Проверим перекрестное совпадение `id` в таблицах и устраним их добавлением номера таблицы",
      "metadata": {}
    },
    {
      "cell_type": "code",
      "source": "print('Количество перекрестных совпадений \"id\" в  таблицах 0 и 1 =', len(geo_data_0[geo_data_0.index.isin(geo_data_1.index.unique())]))\nprint('Количество перекрестных совпадений \"id\" в  таблицах 0 и 2 =', len(geo_data_0[geo_data_0.index.isin(geo_data_2.index.unique())]))\nprint('Количество перекрестных совпадений \"id\" в  таблицах 1 и 2 =', len(geo_data_1[geo_data_1.index.isin(geo_data_2.index.unique())]))",
      "metadata": {},
      "outputs": [
        {
          "name": "stdout",
          "output_type": "stream",
          "text": "Количество перекрестных совпадений \"id\" в  таблицах 0 и 1 = 10\n,Количество перекрестных совпадений \"id\" в  таблицах 0 и 2 = 17\n,Количество перекрестных совпадений \"id\" в  таблицах 1 и 2 = 4\n"
        }
      ],
      "execution_count": 9
    },
    {
      "cell_type": "markdown",
      "source": "В данных отсутствуют пропуски. В столбцах данные соответствуют необходимому типу.",
      "metadata": {}
    },
    {
      "cell_type": "markdown",
      "source": "### Исследовательский анализ данных",
      "metadata": {}
    },
    {
      "cell_type": "code",
      "source": "# Анализ числовых показателей\ngeo_data_0.describe()",
      "metadata": {},
      "outputs": [
        {
          "data": {
            "text/html": [
              "<div>\n",
              "<style scoped>\n",
              "    .dataframe tbody tr th:only-of-type {\n",
              "        vertical-align: middle;\n",
              "    }\n",
              "\n",
              "    .dataframe tbody tr th {\n",
              "        vertical-align: top;\n",
              "    }\n",
              "\n",
              "    .dataframe thead th {\n",
              "        text-align: right;\n",
              "    }\n",
              "</style>\n",
              "<table border=\"1\" class=\"dataframe\">\n",
              "  <thead>\n",
              "    <tr style=\"text-align: right;\">\n",
              "      <th></th>\n",
              "      <th>f0</th>\n",
              "      <th>f1</th>\n",
              "      <th>f2</th>\n",
              "      <th>product</th>\n",
              "    </tr>\n",
              "  </thead>\n",
              "  <tbody>\n",
              "    <tr>\n",
              "      <th>count</th>\n",
              "      <td>100000.000000</td>\n",
              "      <td>100000.000000</td>\n",
              "      <td>100000.000000</td>\n",
              "      <td>100000.000000</td>\n",
              "    </tr>\n",
              "    <tr>\n",
              "      <th>mean</th>\n",
              "      <td>0.500419</td>\n",
              "      <td>0.250143</td>\n",
              "      <td>2.502647</td>\n",
              "      <td>92.500000</td>\n",
              "    </tr>\n",
              "    <tr>\n",
              "      <th>std</th>\n",
              "      <td>0.871832</td>\n",
              "      <td>0.504433</td>\n",
              "      <td>3.248248</td>\n",
              "      <td>44.288691</td>\n",
              "    </tr>\n",
              "    <tr>\n",
              "      <th>min</th>\n",
              "      <td>-1.408605</td>\n",
              "      <td>-0.848218</td>\n",
              "      <td>-12.088328</td>\n",
              "      <td>0.000000</td>\n",
              "    </tr>\n",
              "    <tr>\n",
              "      <th>25%</th>\n",
              "      <td>-0.072580</td>\n",
              "      <td>-0.200881</td>\n",
              "      <td>0.287748</td>\n",
              "      <td>56.497507</td>\n",
              "    </tr>\n",
              "    <tr>\n",
              "      <th>50%</th>\n",
              "      <td>0.502360</td>\n",
              "      <td>0.250252</td>\n",
              "      <td>2.515969</td>\n",
              "      <td>91.849972</td>\n",
              "    </tr>\n",
              "    <tr>\n",
              "      <th>75%</th>\n",
              "      <td>1.073581</td>\n",
              "      <td>0.700646</td>\n",
              "      <td>4.715088</td>\n",
              "      <td>128.564089</td>\n",
              "    </tr>\n",
              "    <tr>\n",
              "      <th>max</th>\n",
              "      <td>2.362331</td>\n",
              "      <td>1.343769</td>\n",
              "      <td>16.003790</td>\n",
              "      <td>185.364347</td>\n",
              "    </tr>\n",
              "  </tbody>\n",
              "</table>\n",
              "</div>"
            ],
            "text/plain": [
              "                  f0             f1             f2        product\n",
              "count  100000.000000  100000.000000  100000.000000  100000.000000\n",
              "mean        0.500419       0.250143       2.502647      92.500000\n",
              "std         0.871832       0.504433       3.248248      44.288691\n",
              "min        -1.408605      -0.848218     -12.088328       0.000000\n",
              "25%        -0.072580      -0.200881       0.287748      56.497507\n",
              "50%         0.502360       0.250252       2.515969      91.849972\n",
              "75%         1.073581       0.700646       4.715088     128.564089\n",
              "max         2.362331       1.343769      16.003790     185.364347"
            ]
          },
          "execution_count": 10,
          "metadata": {},
          "output_type": "execute_result"
        }
      ],
      "execution_count": 10
    },
    {
      "cell_type": "code",
      "source": "# Анализ числовых показателей\ngeo_data_1.describe()",
      "metadata": {},
      "outputs": [
        {
          "data": {
            "text/html": [
              "<div>\n",
              "<style scoped>\n",
              "    .dataframe tbody tr th:only-of-type {\n",
              "        vertical-align: middle;\n",
              "    }\n",
              "\n",
              "    .dataframe tbody tr th {\n",
              "        vertical-align: top;\n",
              "    }\n",
              "\n",
              "    .dataframe thead th {\n",
              "        text-align: right;\n",
              "    }\n",
              "</style>\n",
              "<table border=\"1\" class=\"dataframe\">\n",
              "  <thead>\n",
              "    <tr style=\"text-align: right;\">\n",
              "      <th></th>\n",
              "      <th>f0</th>\n",
              "      <th>f1</th>\n",
              "      <th>f2</th>\n",
              "      <th>product</th>\n",
              "    </tr>\n",
              "  </thead>\n",
              "  <tbody>\n",
              "    <tr>\n",
              "      <th>count</th>\n",
              "      <td>100000.000000</td>\n",
              "      <td>100000.000000</td>\n",
              "      <td>100000.000000</td>\n",
              "      <td>100000.000000</td>\n",
              "    </tr>\n",
              "    <tr>\n",
              "      <th>mean</th>\n",
              "      <td>1.141296</td>\n",
              "      <td>-4.796579</td>\n",
              "      <td>2.494541</td>\n",
              "      <td>68.825000</td>\n",
              "    </tr>\n",
              "    <tr>\n",
              "      <th>std</th>\n",
              "      <td>8.965932</td>\n",
              "      <td>5.119872</td>\n",
              "      <td>1.703572</td>\n",
              "      <td>45.944423</td>\n",
              "    </tr>\n",
              "    <tr>\n",
              "      <th>min</th>\n",
              "      <td>-31.609576</td>\n",
              "      <td>-26.358598</td>\n",
              "      <td>-0.018144</td>\n",
              "      <td>0.000000</td>\n",
              "    </tr>\n",
              "    <tr>\n",
              "      <th>25%</th>\n",
              "      <td>-6.298551</td>\n",
              "      <td>-8.267985</td>\n",
              "      <td>1.000021</td>\n",
              "      <td>26.953261</td>\n",
              "    </tr>\n",
              "    <tr>\n",
              "      <th>50%</th>\n",
              "      <td>1.153055</td>\n",
              "      <td>-4.813172</td>\n",
              "      <td>2.011479</td>\n",
              "      <td>57.085625</td>\n",
              "    </tr>\n",
              "    <tr>\n",
              "      <th>75%</th>\n",
              "      <td>8.621015</td>\n",
              "      <td>-1.332816</td>\n",
              "      <td>3.999904</td>\n",
              "      <td>107.813044</td>\n",
              "    </tr>\n",
              "    <tr>\n",
              "      <th>max</th>\n",
              "      <td>29.421755</td>\n",
              "      <td>18.734063</td>\n",
              "      <td>5.019721</td>\n",
              "      <td>137.945408</td>\n",
              "    </tr>\n",
              "  </tbody>\n",
              "</table>\n",
              "</div>"
            ],
            "text/plain": [
              "                  f0             f1             f2        product\n",
              "count  100000.000000  100000.000000  100000.000000  100000.000000\n",
              "mean        1.141296      -4.796579       2.494541      68.825000\n",
              "std         8.965932       5.119872       1.703572      45.944423\n",
              "min       -31.609576     -26.358598      -0.018144       0.000000\n",
              "25%        -6.298551      -8.267985       1.000021      26.953261\n",
              "50%         1.153055      -4.813172       2.011479      57.085625\n",
              "75%         8.621015      -1.332816       3.999904     107.813044\n",
              "max        29.421755      18.734063       5.019721     137.945408"
            ]
          },
          "execution_count": 11,
          "metadata": {},
          "output_type": "execute_result"
        }
      ],
      "execution_count": 11
    },
    {
      "cell_type": "code",
      "source": "# Анализ числовых показателей\ngeo_data_2.describe()",
      "metadata": {},
      "outputs": [
        {
          "data": {
            "text/html": [
              "<div>\n",
              "<style scoped>\n",
              "    .dataframe tbody tr th:only-of-type {\n",
              "        vertical-align: middle;\n",
              "    }\n",
              "\n",
              "    .dataframe tbody tr th {\n",
              "        vertical-align: top;\n",
              "    }\n",
              "\n",
              "    .dataframe thead th {\n",
              "        text-align: right;\n",
              "    }\n",
              "</style>\n",
              "<table border=\"1\" class=\"dataframe\">\n",
              "  <thead>\n",
              "    <tr style=\"text-align: right;\">\n",
              "      <th></th>\n",
              "      <th>f0</th>\n",
              "      <th>f1</th>\n",
              "      <th>f2</th>\n",
              "      <th>product</th>\n",
              "    </tr>\n",
              "  </thead>\n",
              "  <tbody>\n",
              "    <tr>\n",
              "      <th>count</th>\n",
              "      <td>100000.000000</td>\n",
              "      <td>100000.000000</td>\n",
              "      <td>100000.000000</td>\n",
              "      <td>100000.000000</td>\n",
              "    </tr>\n",
              "    <tr>\n",
              "      <th>mean</th>\n",
              "      <td>0.002023</td>\n",
              "      <td>-0.002081</td>\n",
              "      <td>2.495128</td>\n",
              "      <td>95.000000</td>\n",
              "    </tr>\n",
              "    <tr>\n",
              "      <th>std</th>\n",
              "      <td>1.732045</td>\n",
              "      <td>1.730417</td>\n",
              "      <td>3.473445</td>\n",
              "      <td>44.749921</td>\n",
              "    </tr>\n",
              "    <tr>\n",
              "      <th>min</th>\n",
              "      <td>-8.760004</td>\n",
              "      <td>-7.084020</td>\n",
              "      <td>-11.970335</td>\n",
              "      <td>0.000000</td>\n",
              "    </tr>\n",
              "    <tr>\n",
              "      <th>25%</th>\n",
              "      <td>-1.162288</td>\n",
              "      <td>-1.174820</td>\n",
              "      <td>0.130359</td>\n",
              "      <td>59.450441</td>\n",
              "    </tr>\n",
              "    <tr>\n",
              "      <th>50%</th>\n",
              "      <td>0.009424</td>\n",
              "      <td>-0.009482</td>\n",
              "      <td>2.484236</td>\n",
              "      <td>94.925613</td>\n",
              "    </tr>\n",
              "    <tr>\n",
              "      <th>75%</th>\n",
              "      <td>1.158535</td>\n",
              "      <td>1.163678</td>\n",
              "      <td>4.858794</td>\n",
              "      <td>130.595027</td>\n",
              "    </tr>\n",
              "    <tr>\n",
              "      <th>max</th>\n",
              "      <td>7.238262</td>\n",
              "      <td>7.844801</td>\n",
              "      <td>16.739402</td>\n",
              "      <td>190.029838</td>\n",
              "    </tr>\n",
              "  </tbody>\n",
              "</table>\n",
              "</div>"
            ],
            "text/plain": [
              "                  f0             f1             f2        product\n",
              "count  100000.000000  100000.000000  100000.000000  100000.000000\n",
              "mean        0.002023      -0.002081       2.495128      95.000000\n",
              "std         1.732045       1.730417       3.473445      44.749921\n",
              "min        -8.760004      -7.084020     -11.970335       0.000000\n",
              "25%        -1.162288      -1.174820       0.130359      59.450441\n",
              "50%         0.009424      -0.009482       2.484236      94.925613\n",
              "75%         1.158535       1.163678       4.858794     130.595027\n",
              "max         7.238262       7.844801      16.739402     190.029838"
            ]
          },
          "execution_count": 12,
          "metadata": {},
          "output_type": "execute_result"
        }
      ],
      "execution_count": 12
    },
    {
      "cell_type": "markdown",
      "source": "+ Исследование паризнака `f0`",
      "metadata": {}
    },
    {
      "cell_type": "code",
      "source": "def f_hist_box_1(hb1, bins, title, xlabel, ylabel):\n    f, (ax_box, ax_hist) = plt.subplots(2, sharex=True, figsize=(10,5), gridspec_kw={\"height_ratios\": (.15, .85)})\n     \n    sns.boxplot(data=[hb1], orient=\"h\", ax=ax_box)\n    plt.hist([hb1], \n             bins=bins, range=(hb1.min(), hb1.max()), label=hb1.name)\n \n    plt.legend(loc='upper right')\n    plt.title(title)\n    plt.xlabel(xlabel)\n    plt.ylabel(ylabel)\n    plt.show()",
      "metadata": {},
      "outputs": [],
      "execution_count": 13
    },
    {
      "cell_type": "code",
      "source": "f_hist_box_1(\n    hb1=geo_data_0['f0'],\n    bins=500,   \n    title='Признак \"f0\" в датасете geo_data_0',\n    xlabel='Значение признака',\n    ylabel='Количество значений'\n)",
      "metadata": {},
      "outputs": [
        {
          "data": {
            "image/png": "[encoded data removed]",
            "text/plain": [
              "<Figure size 720x360 with 2 Axes>"
            ]
          },
          "metadata": {
            "needs_background": "light"
          },
          "output_type": "display_data"
        }
      ],
      "execution_count": 14
    },
    {
      "cell_type": "code",
      "source": "f_hist_box_1(\n    hb1=geo_data_1['f0'],\n    bins=500,   \n    title='Признак \"f0\" в датасете geo_data_1',\n    xlabel='Значение признака',\n    ylabel='Количество значений'\n)",
      "metadata": {},
      "outputs": [
        {
          "data": {
            "image/png": "[encoded data removed]",
            "text/plain": [
              "<Figure size 720x360 with 2 Axes>"
            ]
          },
          "metadata": {
            "needs_background": "light"
          },
          "output_type": "display_data"
        }
      ],
      "execution_count": 15
    },
    {
      "cell_type": "code",
      "source": "f_hist_box_1(\n    hb1=geo_data_2['f0'],\n    bins=500,   \n    title='Признак \"f0\" в датасете geo_data_2',\n    xlabel='Значение признака',\n    ylabel='Количество значений'\n)",
      "metadata": {},
      "outputs": [
        {
          "data": {
            "image/png": "[encoded data removed]",
            "text/plain": [
              "<Figure size 720x360 with 2 Axes>"
            ]
          },
          "metadata": {
            "needs_background": "light"
          },
          "output_type": "display_data"
        }
      ],
      "execution_count": 16
    },
    {
      "cell_type": "markdown",
      "source": "+ Сопоставим данные по признаку `f0`  в 3 датасетах",
      "metadata": {}
    },
    {
      "cell_type": "code",
      "source": "def f_hist_box_3(hb1, hb2, hb3, bins, title, xlabel, ylabel):\n    f, (ax_box, ax_hist) = plt.subplots(2, sharex=True, figsize=(10,5), gridspec_kw={\"height_ratios\": (.15, .85)})\n     \n    sns.boxplot(data=[hb1, hb2, hb3], orient=\"h\", ax=ax_box)\n    plt.hist([hb1, hb2, hb3], \n             bins=bins, range=(min(hb1.min(), hb2.min(), hb3.min()), max(hb1.max(), hb2.max(), hb3.max())), \n             label=['geo_data_0', 'geo_data_1', 'geo_data_2'])\n \n    plt.legend(loc='upper right')\n    plt.title(title)\n    plt.xlabel(xlabel)\n    plt.ylabel(ylabel)\n    plt.show()",
      "metadata": {},
      "outputs": [],
      "execution_count": 17
    },
    {
      "cell_type": "code",
      "source": "f_hist_box_3(\n    hb1=geo_data_0['f0'],\n    hb2=geo_data_1['f0'],\n    hb3=geo_data_2['f0'],\n    bins=50,\n    title='Признак \"f0\" в 3 датасетах',\n    xlabel='Значение признака',\n    ylabel='Количество значений'\n)",
      "metadata": {},
      "outputs": [
        {
          "data": {
            "image/png": "[encoded data removed]",
            "text/plain": [
              "<Figure size 720x360 with 2 Axes>"
            ]
          },
          "metadata": {
            "needs_background": "light"
          },
          "output_type": "display_data"
        }
      ],
      "execution_count": 18
    },
    {
      "cell_type": "markdown",
      "source": "+ Исследование признака `f1`",
      "metadata": {}
    },
    {
      "cell_type": "code",
      "source": "f_hist_box_1(\n    hb1=geo_data_0['f1'],\n    bins=500,   \n    title='Признак \"f1\" в датасете geo_data_0',\n    xlabel='Значение признака',\n    ylabel='Количество значений'\n)",
      "metadata": {},
      "outputs": [
        {
          "data": {
            "image/png": "[encoded data removed]",
            "text/plain": [
              "<Figure size 720x360 with 2 Axes>"
            ]
          },
          "metadata": {
            "needs_background": "light"
          },
          "output_type": "display_data"
        }
      ],
      "execution_count": 19
    },
    {
      "cell_type": "code",
      "source": "f_hist_box_1(\n    hb1=geo_data_1['f1'],\n    bins=500,   \n    title='Признак \"f1\" в датасете geo_data_1',\n    xlabel='Значение признака',\n    ylabel='Количество значений'\n)",
      "metadata": {},
      "outputs": [
        {
          "data": {
            "image/png": "[encoded data removed]",
            "text/plain": [
              "<Figure size 720x360 with 2 Axes>"
            ]
          },
          "metadata": {
            "needs_background": "light"
          },
          "output_type": "display_data"
        }
      ],
      "execution_count": 20
    },
    {
      "cell_type": "code",
      "source": "f_hist_box_1(\n    hb1=geo_data_2['f1'],\n    bins=500,   \n    title='Признак \"f1\" в датасете geo_data_2',\n    xlabel='Значение признака',\n    ylabel='Количество значений'\n)",
      "metadata": {},
      "outputs": [
        {
          "data": {
            "image/png": "[encoded data removed]",
            "text/plain": [
              "<Figure size 720x360 with 2 Axes>"
            ]
          },
          "metadata": {
            "needs_background": "light"
          },
          "output_type": "display_data"
        }
      ],
      "execution_count": 21
    },
    {
      "cell_type": "markdown",
      "source": "+ Сопоставим данные по признаку `f1`  в 3 датасетах",
      "metadata": {}
    },
    {
      "cell_type": "code",
      "source": "f_hist_box_3(\n    hb1=geo_data_0['f1'],\n    hb2=geo_data_1['f1'],\n    hb3=geo_data_2['f1'],\n    bins=50,\n    title='Признак \"f1\" в 3 датасетах',\n    xlabel='Значение признака',\n    ylabel='Количество значений'\n)",
      "metadata": {},
      "outputs": [
        {
          "data": {
            "image/png": "[encoded data removed]",
            "text/plain": [
              "<Figure size 720x360 with 2 Axes>"
            ]
          },
          "metadata": {
            "needs_background": "light"
          },
          "output_type": "display_data"
        }
      ],
      "execution_count": 22
    },
    {
      "cell_type": "markdown",
      "source": "+ Исследование признака `f2`",
      "metadata": {}
    },
    {
      "cell_type": "code",
      "source": "f_hist_box_1(\n    hb1=geo_data_0['f2'],\n    bins=100,   \n    title='Признак \"f2\" в датасете geo_data_0',\n    xlabel='Значение признака',\n    ylabel='Количество значений'\n)",
      "metadata": {},
      "outputs": [
        {
          "data": {
            "image/png": "[encoded data removed]",
            "text/plain": [
              "<Figure size 720x360 with 2 Axes>"
            ]
          },
          "metadata": {
            "needs_background": "light"
          },
          "output_type": "display_data"
        }
      ],
      "execution_count": 23
    },
    {
      "cell_type": "code",
      "source": "f_hist_box_1(\n    hb1=geo_data_1['f2'],\n    bins=10,   \n    title='Признак \"f2\" в датасете geo_data_1',\n    xlabel='Значение признака',\n    ylabel='Количество значений'\n)",
      "metadata": {},
      "outputs": [
        {
          "data": {
            "image/png": "[encoded data removed]",
            "text/plain": [
              "<Figure size 720x360 with 2 Axes>"
            ]
          },
          "metadata": {
            "needs_background": "light"
          },
          "output_type": "display_data"
        }
      ],
      "execution_count": 24
    },
    {
      "cell_type": "code",
      "source": "f_hist_box_1(\n    hb1=geo_data_2['f2'],\n    bins=100,   \n    title='Признак \"f2\" в датасете geo_data_2',\n    xlabel='Значение признака',\n    ylabel='Количество значений'\n)",
      "metadata": {},
      "outputs": [
        {
          "data": {
            "image/png": "[encoded data removed]",
            "text/plain": [
              "<Figure size 720x360 with 2 Axes>"
            ]
          },
          "metadata": {
            "needs_background": "light"
          },
          "output_type": "display_data"
        }
      ],
      "execution_count": 25
    },
    {
      "cell_type": "markdown",
      "source": "+ Сопоставим данные по признаку `f2`  в 3 датасетах",
      "metadata": {}
    },
    {
      "cell_type": "code",
      "source": "f_hist_box_3(\n    hb1=geo_data_0['f2'],\n    hb2=geo_data_1['f2'],\n    hb3=geo_data_2['f2'],\n    bins=50,\n    title='Признак \"f2\" в 3 датасетах',\n    xlabel='Значение признака',\n    ylabel='Количество значений'\n)",
      "metadata": {},
      "outputs": [
        {
          "data": {
            "image/png": "[encoded data removed]",
            "text/plain": [
              "<Figure size 720x360 with 2 Axes>"
            ]
          },
          "metadata": {
            "needs_background": "light"
          },
          "output_type": "display_data"
        }
      ],
      "execution_count": 26
    },
    {
      "cell_type": "markdown",
      "source": "+ Исследование признака `product`",
      "metadata": {}
    },
    {
      "cell_type": "code",
      "source": "f_hist_box_1(\n    hb1=geo_data_0['product'],\n    bins=50,   \n    title='Признак \"product\" в датасете geo_data_0',\n    xlabel='Значение признака',\n    ylabel='Количество значений'\n)",
      "metadata": {},
      "outputs": [
        {
          "data": {
            "image/png": "[encoded data removed]",
            "text/plain": [
              "<Figure size 720x360 with 2 Axes>"
            ]
          },
          "metadata": {
            "needs_background": "light"
          },
          "output_type": "display_data"
        }
      ],
      "execution_count": 27
    },
    {
      "cell_type": "code",
      "source": "f_hist_box_1(\n    hb1=geo_data_1['product'],\n    bins=50,   \n    title='Признак \"product\" в датасете geo_data_1',\n    xlabel='Значение признака',\n    ylabel='Количество значений'\n)",
      "metadata": {},
      "outputs": [
        {
          "data": {
            "image/png": "[encoded data removed]",
            "text/plain": [
              "<Figure size 720x360 with 2 Axes>"
            ]
          },
          "metadata": {
            "needs_background": "light"
          },
          "output_type": "display_data"
        }
      ],
      "execution_count": 28
    },
    {
      "cell_type": "code",
      "source": "f_hist_box_1(\n    hb1=geo_data_2['product'],\n    bins=100,   \n    title='Признак \"product\" в датасете geo_data_2',\n    xlabel='Значение признака',\n    ylabel='Количество значений'\n)",
      "metadata": {},
      "outputs": [
        {
          "data": {
            "image/png": "[encoded data removed]",
            "text/plain": [
              "<Figure size 720x360 with 2 Axes>"
            ]
          },
          "metadata": {
            "needs_background": "light"
          },
          "output_type": "display_data"
        }
      ],
      "execution_count": 29
    },
    {
      "cell_type": "markdown",
      "source": "+ Сопоставим данные по признаку `product`  в 3 датасетах",
      "metadata": {}
    },
    {
      "cell_type": "code",
      "source": "f_hist_box_3(\n    hb1=geo_data_0['product'],\n    hb2=geo_data_1['product'],\n    hb3=geo_data_2['product'],\n    bins=100,\n    title='Признак \"product\" в 3 датасетах',\n    xlabel='Значение признака',\n    ylabel='Количество значений'\n)",
      "metadata": {},
      "outputs": [
        {
          "data": {
            "image/png": "[encoded data removed]",
            "text/plain": [
              "<Figure size 720x360 with 2 Axes>"
            ]
          },
          "metadata": {
            "needs_background": "light"
          },
          "output_type": "display_data"
        }
      ],
      "execution_count": 30
    },
    {
      "cell_type": "markdown",
      "source": "**Вывод:**\n\n+ В данных обнаружены выбросы, однако данные в основном равномерно распределены относительно медианы.\n+ Признаки демонстрируют значительные различия в зависимости от региона.\n",
      "metadata": {}
    },
    {
      "cell_type": "markdown",
      "source": "### Корреляционный анализ данных",
      "metadata": {}
    },
    {
      "cell_type": "markdown",
      "source": "+ Построение матрицы корреляции датасета `geo_data_0`",
      "metadata": {}
    },
    {
      "cell_type": "code",
      "source": "interval_cols = ['f0', \n                 'f1', \n                 'f2', \n                 'product'\n                ]",
      "metadata": {},
      "outputs": [],
      "execution_count": 31
    },
    {
      "cell_type": "code",
      "source": "fig, ax = plt.subplots(figsize=(11, 10))\nplt.suptitle('Матрица корреляции phi(k) для столбцов датасета \"geo_data_0\"')\nsns.heatmap(geo_data_0.phik_matrix(interval_cols=interval_cols), annot=True, cmap='Purples');",
      "metadata": {},
      "outputs": [
        {
          "data": {
            "image/png": "[encoded data removed]",
            "text/plain": [
              "<Figure size 792x720 with 2 Axes>"
            ]
          },
          "metadata": {
            "needs_background": "light"
          },
          "output_type": "display_data"
        }
      ],
      "execution_count": 32
    },
    {
      "cell_type": "markdown",
      "source": "+ Построение матрицы корреляции датасета `geo_data_1`",
      "metadata": {}
    },
    {
      "cell_type": "code",
      "source": "fig, ax = plt.subplots(figsize=(11, 10))\nplt.suptitle('Матрица корреляции phi(k) для столбцов \"geo_data_1\"')\nsns.heatmap(geo_data_1.phik_matrix(interval_cols=interval_cols), annot=True, cmap='Purples');",
      "metadata": {},
      "outputs": [
        {
          "data": {
            "image/png": "[encoded data removed]",
            "text/plain": [
              "<Figure size 792x720 with 2 Axes>"
            ]
          },
          "metadata": {
            "needs_background": "light"
          },
          "output_type": "display_data"
        }
      ],
      "execution_count": 33
    },
    {
      "cell_type": "markdown",
      "source": "+ Построение матрицы корреляции датасета `geo_data_2`",
      "metadata": {}
    },
    {
      "cell_type": "code",
      "source": "fig, ax = plt.subplots(figsize=(11, 10))\nplt.suptitle('Матрица корреляции phi(k) для столбцов \"geo_data_2\"')\nsns.heatmap(geo_data_2.phik_matrix(interval_cols=interval_cols), annot=True, cmap='Purples');",
      "metadata": {},
      "outputs": [
        {
          "data": {
            "image/png": "[encoded data removed]",
            "text/plain": [
              "<Figure size 792x720 with 2 Axes>"
            ]
          },
          "metadata": {
            "needs_background": "light"
          },
          "output_type": "display_data"
        }
      ],
      "execution_count": 34
    },
    {
      "cell_type": "markdown",
      "source": "**Вывод:**\n\nКорелляционный анализ данных выявил следующие особенности:\n\n+ В данных обнаружены выбросы, однако данные в основном равномерно распределены относительно медианы.\n+ Признаки демонстрируют значительные различия в зависимости от региона.\n+ Поскольку корреляция между входными параметрами данных по всем регионам не превышает 0.9, мультиколлинеарность при обучении модели не учитывать не надо.\n+ Корреляция между признаками и целевым показателем различается в зависимости от региона.\n+ В данных `geo_data_1` наблюдается сильная прямая зависимость (phi(k) = 0.98) между входным признаком `f2` и целевым признаком `product`",
      "metadata": {}
    },
    {
      "cell_type": "markdown",
      "source": "## Шаг 2. Обучение и проверка модели",
      "metadata": {}
    },
    {
      "cell_type": "markdown",
      "source": "Для обучения модели подходит только линейная регрессия (остальные — недостаточно предсказуемые).",
      "metadata": {}
    },
    {
      "cell_type": "code",
      "source": "RANDOM_STATE = 42\n\nnames = ['geo_predict_0', 'geo_predict_1', 'geo_predict_2']\ndata = [geo_data_0, geo_data_1, geo_data_2]\ntargets_1 = {}\ntargets = {}\n\nfor name, data in zip(names, data):\n    \n    X = data.drop(columns='product')\n    y = data['product']\n\n    X_train, X_test, y_train, y_test = train_test_split(\n        X, \n        y,\n        random_state=RANDOM_STATE\n    )\n    \n    param_grid = [\n\n    {\n        'models': [LinearRegression()],\n        'preprocessor__num': [StandardScaler(), \n                              MinMaxScaler(), \n                              RobustScaler(), \n                              'passthrough']   \n    },\n\n    ]\n    \n    num_columns = ['f0', 'f1', 'f2']\n    data_preprocessor = ColumnTransformer(\n    [('num', RobustScaler(), num_columns)\n    ], \n    remainder='passthrough'\n    )\n\n\n    pipe_final = Pipeline([\n    ('preprocessor', data_preprocessor),\n    ('models', LinearRegression())\n    ])\n\n    rs = RandomizedSearchCV(\n    pipe_final, \n    param_grid, \n    cv=5,\n    scoring='neg_mean_squared_error',\n    random_state=RANDOM_STATE,\n    n_jobs=-1\n    )\n\n    rs.fit(X_train, y_train)\n    \n    targets_1[name] =  pd.concat([pd.DataFrame(y).reset_index(), pd.DataFrame(data=rs.predict(X), columns=['predict'])], axis=1)\n    \n    targets[name] =  pd.concat([pd.DataFrame(y_test).reset_index(), pd.DataFrame(data=rs.predict(X_test), columns=['predict'])], axis=1)\n    print(' ')\n    print(f'Для данных датасета \"{name}\" выборка поделена на Обучающую и Валидационную в соотношении {X_train.shape[0]/X.shape[0]}:{X_test.shape[0]/X.shape[0]}')\n    print('Параметры лучшей модели', rs.best_params_)\n    print(' ')\n    print(f'Метрика лучшей модели на на кросс-валидации:{(abs(rs.best_score_)**0.5):.3f}')\n    print(' ')\n    rmse_train = (mean_squared_error(y_train, rs.predict(X_train)))**0.5\n    print(f'Значение метрики RMSE  на обучающей выборке: {rmse_train:.3f}')\n    rmse_test = (mean_squared_error(y_test, rs.predict(X_test)))**0.5\n    print(f'Значение метрики RMSE  на тестовой выборке: {rmse_test:.3f}')\n    print(' ')\n    print(f'Средний запас фактического сырья по валидационной выборке: {y_test.mean():.2f} тыс. баррелей')\n    print(f'Средний запас предсказанного сырья по валидационной выборке: {rs.predict(X_test).mean():.2f} тыс. баррелей')\n    print(f'Разница в средних запасах фактического и предсказанного сырья: {(1-y_test.mean().mean()/rs.predict(X_test).mean()):.2%}') ",
      "metadata": {},
      "outputs": [
        {
          "name": "stdout",
          "output_type": "stream",
          "text": " \n,Для данных датасета \"geo_predict_0\" выборка поделена на Обучающую и Валидационную в соотношении 0.75:0.25\n,Параметры лучшей модели {'preprocessor__num': StandardScaler(), 'models': LinearRegression()}\n, \n,Метрика лучшей модели на на кросс-валидации:37.673\n, \n,Значение метрики RMSE  на обучающей выборке: 37.670\n,Значение метрики RMSE  на тестовой выборке: 37.757\n, \n,Средний запас фактического сырья по валидационной выборке: 92.33 тыс. баррелей\n,Средний запас предсказанного сырья по валидационной выборке: 92.40 тыс. баррелей\n,Разница в средних запасах фактического и предсказанного сырья: 0.08%\n, \n,Для данных датасета \"geo_predict_1\" выборка поделена на Обучающую и Валидационную в соотношении 0.75:0.25\n,Параметры лучшей модели {'preprocessor__num': MinMaxScaler(), 'models': LinearRegression()}\n, \n,Метрика лучшей модели на на кросс-валидации:0.890\n, \n,Значение метрики RMSE  на обучающей выборке: 0.890\n,Значение метрики RMSE  на тестовой выборке: 0.890\n, \n,Средний запас фактического сырья по валидационной выборке: 68.73 тыс. баррелей\n,Средний запас предсказанного сырья по валидационной выборке: 68.71 тыс. баррелей\n,Разница в средних запасах фактического и предсказанного сырья: -0.02%\n, \n,Для данных датасета \"geo_predict_2\" выборка поделена на Обучающую и Валидационную в соотношении 0.75:0.25\n,Параметры лучшей модели {'preprocessor__num': StandardScaler(), 'models': LinearRegression()}\n, \n,Метрика лучшей модели на на кросс-валидации:40.027\n, \n,Значение метрики RMSE  на обучающей выборке: 40.025\n,Значение метрики RMSE  на тестовой выборке: 40.146\n, \n,Средний запас фактического сырья по валидационной выборке: 95.15 тыс. баррелей\n,Средний запас предсказанного сырья по валидационной выборке: 94.77 тыс. баррелей\n,Разница в средних запасах фактического и предсказанного сырья: -0.40%\n"
        }
      ],
      "execution_count": 35
    },
    {
      "cell_type": "markdown",
      "source": "**Вывод:**\n\nВ ходе обучения и проверки модели были выполнены следующие шаги:\n\n1) Исходный набор данных был разделен на обучающую (75%) и валидационную (25%) выборки\n\n2) Обучена модель и сделаны предсказания на валидационной выборке\n\n3) Сохранены предсказания и верные ответы на валидационной выборке в столбец `targets`\n\n4) На основе предсказаний для валидационной выборки был рассчитан средний объем прогнозируемого сырья\n\n5) Для оценки точности модели была вычислена метрика RMSE (Root Mean Squared Error)\n\nРезультаты моделирования вызывают вопросы. RMSE для `geo_predict_0` и `geo_predict_2` (37.757 и 40.146 соответственно) существенно выше, чем для `geo_predict_1` (0.890). Это свидетельствует о большом разбросе данных, а также отсутствии прямой зависимости между входными и целевым показателями (1.5 Корреляционный анализ данных).  Как следствие, прогнозируемые значения не могут считаться надежной оценкой реальных запасов.\n",
      "metadata": {}
    },
    {
      "cell_type": "markdown",
      "source": "## Шаг 3. Подготовка к расчёту прибыли",
      "metadata": {}
    },
    {
      "cell_type": "markdown",
      "source": "### Сохранение всех ключевых значений для расчётов в отдельных переменных",
      "metadata": {}
    },
    {
      "cell_type": "code",
      "source": "# количество скважин, исследуемых при разведке региона\nNUMBER_WELLS = 500 \n# количество лучших скважин, которые необходимо выбрать для разработки в каждом регионе с помощью машинного обучения\nBEST_WELLS = 200 \n# бюджет на разработку скважин в регионе, заложенный на 200 скважин\nBUDGET = 10e9\n# доход с каждой единицы продукта (тыс. рублей на 1 тыс. баррелей)\nBARREL_PRICE = 450_000\n# порог вероятности убытков (меньше 2.5%)\nPROBABILITY_LOSSES = 0.025",
      "metadata": {},
      "outputs": [],
      "execution_count": 36
    },
    {
      "cell_type": "markdown",
      "source": "### Рассчет достаточного объёма сырья для безубыточной разработки новой скважины. Сравнение полученного объёма сырья со средним запасом в каждом регионе",
      "metadata": {}
    },
    {
      "cell_type": "code",
      "source": "names = [\"geo_predict_0\", \"geo_predict_1\", \"geo_predict_2\"]\ndata = [geo_data_0, geo_data_1, geo_data_2]\n\nbreak_even = BUDGET / (BARREL_PRICE * BEST_WELLS)\nprint(f'Достаточный объём сырья для безубыточной разработки новой скважины = {break_even:.2f} тыс. баррелей.')\n\nfor name, data in zip(names, data):\n    print('____________________________________________________________________________________________')\n    print(f'Средний запас объёма сырья в {name} регионе = {data[\"product\"].mean():.2f} тыс. баррелей.')\n    \n    print(f'Количество скважин c объёмом больше {break_even:.2f} тыс. баррелей по исходным данным = \\\n{len(targets_1[name].query(\"product > @break_even\"))} или \\\n{len(targets_1[name].query(\"product > @break_even\")) / len(targets_1[name]):.2%}')\n\n    print(f'Количество скважин c объёмом больше {break_even:.2f} тыс. баррелей по предсказанным моделью данным = \\\n{len(targets_1[name].query(\"predict > @break_even\"))} или \\\n{len(targets_1[name].query(\"predict > @break_even\")) / len(targets_1[name]):.2%}')\n    \n    print(f'Количество скважин c объёмом больше {break_even:.2f} тыс. баррелей по верификационным данным = \\\n{len(targets[name].query(\"predict > @break_even\"))} или \\\n{len(targets[name].query(\"predict > @break_even\")) / len(targets[name]):.2%}')\n",
      "metadata": {},
      "outputs": [
        {
          "name": "stdout",
          "output_type": "stream",
          "text": "Достаточный объём сырья для безубыточной разработки новой скважины = 111.11 тыс. баррелей.\n,____________________________________________________________________________________________\n,Средний запас объёма сырья в geo_predict_0 регионе = 92.50 тыс. баррелей.\n,Количество скважин c объёмом больше 111.11 тыс. баррелей по исходным данным = 36583 или 36.58%\n,Количество скважин c объёмом больше 111.11 тыс. баррелей по предсказанным моделью данным = 21471 или 21.47%\n,Количество скважин c объёмом больше 111.11 тыс. баррелей по верификационным данным = 5258 или 21.03%\n,____________________________________________________________________________________________\n,Средний запас объёма сырья в geo_predict_1 регионе = 68.83 тыс. баррелей.\n,Количество скважин c объёмом больше 111.11 тыс. баррелей по исходным данным = 16537 или 16.54%\n,Количество скважин c объёмом больше 111.11 тыс. баррелей по предсказанным моделью данным = 18185 или 18.19%\n,Количество скважин c объёмом больше 111.11 тыс. баррелей по верификационным данным = 4520 или 18.08%\n,____________________________________________________________________________________________\n,Средний запас объёма сырья в geo_predict_2 регионе = 95.00 тыс. баррелей.\n,Количество скважин c объёмом больше 111.11 тыс. баррелей по исходным данным = 38178 или 38.18%\n,Количество скважин c объёмом больше 111.11 тыс. баррелей по предсказанным моделью данным = 21051 или 21.05%\n,Количество скважин c объёмом больше 111.11 тыс. баррелей по верификационным данным = 5239 или 20.96%\n"
        }
      ],
      "execution_count": 37
    },
    {
      "cell_type": "markdown",
      "source": "**Вывод:**\n\nЧтобы избежать убытков при разработке скважин, необходимо тщательно выбирать объекты, так как минимальный объем сырья для прибыльной разработки составляет 111.11 тыс. баррелей, что существенно выше средних запасов по регионам. Все ключевые параметры для анализа сохранены в отдельных переменных.",
      "metadata": {}
    },
    {
      "cell_type": "markdown",
      "source": "## Шаг 4. Расчёт прибыли и рисков ",
      "metadata": {}
    },
    {
      "cell_type": "markdown",
      "source": "### Подготовка функции для расчёта прибыли по выбранным скважинам и предсказаниям модели",
      "metadata": {}
    },
    {
      "cell_type": "markdown",
      "source": "Функция для расчёта прибыли по выбранным скважинам и предсказаниям модели, заключающаяся в:\n 1. Отбор скважины с максимальными значениями предсказаний \n 2. Суммиа целевого значения объёма сырья, соответствующее этим предсказаниям\n 3. Рассчет прибыли для полученного объёма сырья",
      "metadata": {}
    },
    {
      "cell_type": "code",
      "source": "def f_profit(product_sample, predict_sample, count):\n    predict_sample = predict_sample[~predict_sample.index.duplicated()]\n    # Прогнозный семплированный объем, отсортирован и срезан по  ограничению количества скважин\n    probs_sorted = predict_sample.sort_values(ascending=False)[:count]\n    # Отобраны разведанные объемы по  предыдущему срезу\n    selected = product_sample[probs_sorted.index]\n    # Суммарный объем скважин умножен на стоимость барреля за вычетом вложенного бюджета\n    return selected.sum() * BARREL_PRICE - BUDGET",
      "metadata": {},
      "outputs": [],
      "execution_count": 38
    },
    {
      "cell_type": "markdown",
      "source": "### Подсчет рисков и прибыли для каждого региона",
      "metadata": {}
    },
    {
      "cell_type": "code",
      "source": "STATE = np.random.RandomState(12345)\n\nfor name in names:\n    values = []\n    for i in range(1000):\n        product_sample = targets[name]['product'].sample(NUMBER_WELLS, replace=True, random_state=STATE)\n        predict_sample = targets[name]['predict'][product_sample.index]\n        values.append(f_profit(product_sample, predict_sample, BEST_WELLS))\n        \n    values = pd.Series(values)\n     \n    mean = values.mean() / 1_000_000\n    lower = values.quantile(0.025) / 1_000_000\n    upper = values.quantile(0.975) / 1_000_000\n    \n    risk = values.apply(lambda x: x < 0).sum() / len(values)\n    if risk > PROBABILITY_LOSSES:\n        print(' ')\n        print(f'Для региона: {name} риск {risk:.2%} > {PROBABILITY_LOSSES:.2%} ')\n        print(' ')\n        continue\n    \n    # визуализируем\n    values.hist(figsize=(16, 5), bins=50)\n    plt.grid(True)\n    plt.axvline(values.quantile(0.025), color='green')\n    plt.axvline(values.quantile(0.975), color='red')\n    plt.legend(['Нижняя граница 95%-го доверительного интервала', \n                'Верхняя граница 95%-го доверительного интервала', f'Распределение прибыли для региона {name}'])\n    plt.xlabel('Прибыль (млр.руб.)')\n    plt.ylabel('Количество скважин из 200 лучших для разработки')\n    plt.title(f'Распределение прибыли для региона {name}')\n    plt.show()\n\n    print()\n    print(f'Для региона {name}:')\n    print(f'Средняя валовая прибыль с 200 лучших скважин, отобраных на основе прогнозных данных = {mean:.0f} млн. рублей.')\n    print(f'Доверительный интервал находится в диапазоне {lower:.0f} - {upper:.0f} млн. рублей.')\n    print(f'Риск убытков составляет = {risk:.2%}')",
      "metadata": {},
      "outputs": [
        {
          "name": "stdout",
          "output_type": "stream",
          "text": " \n,Для региона: geo_predict_0 риск 4.20% > 2.50% \n, \n"
        },
        {
          "data": {
            "image/png": "[encoded data removed]",
            "text/plain": [
              "<Figure size 1152x360 with 1 Axes>"
            ]
          },
          "metadata": {
            "needs_background": "light"
          },
          "output_type": "display_data"
        },
        {
          "name": "stdout",
          "output_type": "stream",
          "text": "\n,Для региона geo_predict_1:\n,Средняя валовая прибыль с 200 лучших скважин, отобраных на основе прогнозных данных = 516 млн. рублей.\n,Доверительный интервал находится в диапазоне 89 - 928 млн. рублей.\n,Риск убытков составляет = 0.60%\n, \n,Для региона: geo_predict_2 риск 5.10% > 2.50% \n, \n"
        }
      ],
      "execution_count": 39
    },
    {
      "cell_type": "markdown",
      "source": "**Вывод:**\n\n+ Для оценки распределения прибыли в каждом регионе была применена методика Bootstrap. \n\n1) Было сгенерировано 1000 выборок, каждая из которых представляла собой случайный набор из 500 скважин, отобранных на основе прогнозных данных.  \n\n2) Затем из каждой выборки отбирались 200 скважин с наибольшим запасом.  \n\n3) На основе этих данных были рассчитаны при случайном выборе 500 скважин: средняя прибыль по регионам, риск убытков и 95% доверительный интервал для каждого региона. \n\n4) Отобран регион, удовлетворяющий условию - возникновение риска < 2.5%, и построена для него гистограмма распределения прибыли  при случайном отборе 500 скважин.\n\n\n+ По результатам оценки рисков, **наиболее перспективным и надежным для разработки представляется регион `geo_predict_1`**. \n\nОн характеризуется **низкой вероятностью возникновения убытков (0.60%)**, не превышающей по условию 2.5%, и **средней ожидаемой прибылью в размере 516 млн. руб**. При этом, **доверительный интервал прибыли для данного региона варьируется от 89 до 928 млн. рублей**.",
      "metadata": {}
    },
    {
      "cell_type": "markdown",
      "source": "## Шаг 5. Общий вывод по исследованию:\n\n+ На основе проведенного анализа, для разработки **рекомендуется регион `geo_predict_1`** с показателем риска убытков == 0.60%. Эта цифра значительно ниже допустимого порога в 2.5% и рассчитана на основе случайного выбора 500 скважин с последующим отбором 200 лучших. Ожидаемая средняя прибыль по региону составляет 516 млн рублей, с доверительным интервалом (95%) от 89 до 928 млн рублей.\n\n\n+ С целью снижения рисков и увеличения потенциальной прибыли, предлагается отбирать для разработки только те скважины, разведанные запасы нефти в которых превышают 111.11 тыс. баррелей.",
      "metadata": {}
    }
  ]
}